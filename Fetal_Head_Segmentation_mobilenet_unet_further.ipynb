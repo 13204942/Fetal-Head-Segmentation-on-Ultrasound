{
  "nbformat": 4,
  "nbformat_minor": 0,
  "metadata": {
    "colab": {
      "provenance": [],
      "gpuType": "T4",
      "collapsed_sections": [
        "vi_ZurgfJGqL",
        "S5hfzBSRJKuX"
      ]
    },
    "kernelspec": {
      "name": "python3",
      "display_name": "Python 3"
    },
    "language_info": {
      "name": "python"
    },
    "accelerator": "GPU"
  },
  "cells": [
    {
      "cell_type": "markdown",
      "source": [
        "## Download and Install Required Libraries"
      ],
      "metadata": {
        "id": "7naYv04f_snn"
      }
    },
    {
      "cell_type": "markdown",
      "source": [
        "Github: [source codes](https://github.com/qubvel/segmentation_models.pytorch/blob/master/README.md)"
      ],
      "metadata": {
        "id": "E69N1dJk_9f9"
      }
    },
    {
      "cell_type": "code",
      "source": [
        "!pip install segmentation-models-pytorch"
      ],
      "metadata": {
        "colab": {
          "base_uri": "https://localhost:8080/"
        },
        "id": "c7X8gOiA_tsC",
        "outputId": "82da059e-3d24-4970-f379-f43f0d92d7c2"
      },
      "execution_count": null,
      "outputs": [
        {
          "output_type": "stream",
          "name": "stdout",
          "text": [
            "Collecting segmentation-models-pytorch\n",
            "  Downloading segmentation_models_pytorch-0.3.3-py3-none-any.whl (106 kB)\n",
            "\u001b[2K     \u001b[90m━━━━━━━━━━━━━━━━━━━━━━━━━━━━━━━━━━━━━━━━\u001b[0m \u001b[32m106.7/106.7 kB\u001b[0m \u001b[31m1.2 MB/s\u001b[0m eta \u001b[36m0:00:00\u001b[0m\n",
            "\u001b[?25hRequirement already satisfied: torchvision>=0.5.0 in /usr/local/lib/python3.10/dist-packages (from segmentation-models-pytorch) (0.15.2+cu118)\n",
            "Collecting pretrainedmodels==0.7.4 (from segmentation-models-pytorch)\n",
            "  Downloading pretrainedmodels-0.7.4.tar.gz (58 kB)\n",
            "\u001b[2K     \u001b[90m━━━━━━━━━━━━━━━━━━━━━━━━━━━━━━━━━━━━━━━━\u001b[0m \u001b[32m58.8/58.8 kB\u001b[0m \u001b[31m7.8 MB/s\u001b[0m eta \u001b[36m0:00:00\u001b[0m\n",
            "\u001b[?25h  Preparing metadata (setup.py) ... \u001b[?25l\u001b[?25hdone\n",
            "Collecting efficientnet-pytorch==0.7.1 (from segmentation-models-pytorch)\n",
            "  Downloading efficientnet_pytorch-0.7.1.tar.gz (21 kB)\n",
            "  Preparing metadata (setup.py) ... \u001b[?25l\u001b[?25hdone\n",
            "Collecting timm==0.9.2 (from segmentation-models-pytorch)\n",
            "  Downloading timm-0.9.2-py3-none-any.whl (2.2 MB)\n",
            "\u001b[2K     \u001b[90m━━━━━━━━━━━━━━━━━━━━━━━━━━━━━━━━━━━━━━━━\u001b[0m \u001b[32m2.2/2.2 MB\u001b[0m \u001b[31m65.5 MB/s\u001b[0m eta \u001b[36m0:00:00\u001b[0m\n",
            "\u001b[?25hRequirement already satisfied: tqdm in /usr/local/lib/python3.10/dist-packages (from segmentation-models-pytorch) (4.66.1)\n",
            "Requirement already satisfied: pillow in /usr/local/lib/python3.10/dist-packages (from segmentation-models-pytorch) (9.4.0)\n",
            "Requirement already satisfied: torch in /usr/local/lib/python3.10/dist-packages (from efficientnet-pytorch==0.7.1->segmentation-models-pytorch) (2.0.1+cu118)\n",
            "Collecting munch (from pretrainedmodels==0.7.4->segmentation-models-pytorch)\n",
            "  Downloading munch-4.0.0-py2.py3-none-any.whl (9.9 kB)\n",
            "Requirement already satisfied: pyyaml in /usr/local/lib/python3.10/dist-packages (from timm==0.9.2->segmentation-models-pytorch) (6.0.1)\n",
            "Collecting huggingface-hub (from timm==0.9.2->segmentation-models-pytorch)\n",
            "  Downloading huggingface_hub-0.18.0-py3-none-any.whl (301 kB)\n",
            "\u001b[2K     \u001b[90m━━━━━━━━━━━━━━━━━━━━━━━━━━━━━━━━━━━━━━━━\u001b[0m \u001b[32m302.0/302.0 kB\u001b[0m \u001b[31m34.2 MB/s\u001b[0m eta \u001b[36m0:00:00\u001b[0m\n",
            "\u001b[?25hCollecting safetensors (from timm==0.9.2->segmentation-models-pytorch)\n",
            "  Downloading safetensors-0.4.0-cp310-cp310-manylinux_2_17_x86_64.manylinux2014_x86_64.whl (1.3 MB)\n",
            "\u001b[2K     \u001b[90m━━━━━━━━━━━━━━━━━━━━━━━━━━━━━━━━━━━━━━━━\u001b[0m \u001b[32m1.3/1.3 MB\u001b[0m \u001b[31m60.9 MB/s\u001b[0m eta \u001b[36m0:00:00\u001b[0m\n",
            "\u001b[?25hRequirement already satisfied: numpy in /usr/local/lib/python3.10/dist-packages (from torchvision>=0.5.0->segmentation-models-pytorch) (1.23.5)\n",
            "Requirement already satisfied: requests in /usr/local/lib/python3.10/dist-packages (from torchvision>=0.5.0->segmentation-models-pytorch) (2.31.0)\n",
            "Requirement already satisfied: filelock in /usr/local/lib/python3.10/dist-packages (from torch->efficientnet-pytorch==0.7.1->segmentation-models-pytorch) (3.12.4)\n",
            "Requirement already satisfied: typing-extensions in /usr/local/lib/python3.10/dist-packages (from torch->efficientnet-pytorch==0.7.1->segmentation-models-pytorch) (4.5.0)\n",
            "Requirement already satisfied: sympy in /usr/local/lib/python3.10/dist-packages (from torch->efficientnet-pytorch==0.7.1->segmentation-models-pytorch) (1.12)\n",
            "Requirement already satisfied: networkx in /usr/local/lib/python3.10/dist-packages (from torch->efficientnet-pytorch==0.7.1->segmentation-models-pytorch) (3.1)\n",
            "Requirement already satisfied: jinja2 in /usr/local/lib/python3.10/dist-packages (from torch->efficientnet-pytorch==0.7.1->segmentation-models-pytorch) (3.1.2)\n",
            "Requirement already satisfied: triton==2.0.0 in /usr/local/lib/python3.10/dist-packages (from torch->efficientnet-pytorch==0.7.1->segmentation-models-pytorch) (2.0.0)\n",
            "Requirement already satisfied: cmake in /usr/local/lib/python3.10/dist-packages (from triton==2.0.0->torch->efficientnet-pytorch==0.7.1->segmentation-models-pytorch) (3.27.6)\n",
            "Requirement already satisfied: lit in /usr/local/lib/python3.10/dist-packages (from triton==2.0.0->torch->efficientnet-pytorch==0.7.1->segmentation-models-pytorch) (17.0.2)\n",
            "Requirement already satisfied: fsspec>=2023.5.0 in /usr/local/lib/python3.10/dist-packages (from huggingface-hub->timm==0.9.2->segmentation-models-pytorch) (2023.6.0)\n",
            "Requirement already satisfied: packaging>=20.9 in /usr/local/lib/python3.10/dist-packages (from huggingface-hub->timm==0.9.2->segmentation-models-pytorch) (23.2)\n",
            "Requirement already satisfied: charset-normalizer<4,>=2 in /usr/local/lib/python3.10/dist-packages (from requests->torchvision>=0.5.0->segmentation-models-pytorch) (3.3.0)\n",
            "Requirement already satisfied: idna<4,>=2.5 in /usr/local/lib/python3.10/dist-packages (from requests->torchvision>=0.5.0->segmentation-models-pytorch) (3.4)\n",
            "Requirement already satisfied: urllib3<3,>=1.21.1 in /usr/local/lib/python3.10/dist-packages (from requests->torchvision>=0.5.0->segmentation-models-pytorch) (2.0.6)\n",
            "Requirement already satisfied: certifi>=2017.4.17 in /usr/local/lib/python3.10/dist-packages (from requests->torchvision>=0.5.0->segmentation-models-pytorch) (2023.7.22)\n",
            "Requirement already satisfied: MarkupSafe>=2.0 in /usr/local/lib/python3.10/dist-packages (from jinja2->torch->efficientnet-pytorch==0.7.1->segmentation-models-pytorch) (2.1.3)\n",
            "Requirement already satisfied: mpmath>=0.19 in /usr/local/lib/python3.10/dist-packages (from sympy->torch->efficientnet-pytorch==0.7.1->segmentation-models-pytorch) (1.3.0)\n",
            "Building wheels for collected packages: efficientnet-pytorch, pretrainedmodels\n",
            "  Building wheel for efficientnet-pytorch (setup.py) ... \u001b[?25l\u001b[?25hdone\n",
            "  Created wheel for efficientnet-pytorch: filename=efficientnet_pytorch-0.7.1-py3-none-any.whl size=16428 sha256=9e06a305547eed8a462350b3cf4eed611b8707245093dfe132ae706bcad16c0d\n",
            "  Stored in directory: /root/.cache/pip/wheels/03/3f/e9/911b1bc46869644912bda90a56bcf7b960f20b5187feea3baf\n",
            "  Building wheel for pretrainedmodels (setup.py) ... \u001b[?25l\u001b[?25hdone\n",
            "  Created wheel for pretrainedmodels: filename=pretrainedmodels-0.7.4-py3-none-any.whl size=60943 sha256=ff11396cab460aaff312f9f275b795a073c2cf4b5c6ab6461c01dc6ec2c00ef8\n",
            "  Stored in directory: /root/.cache/pip/wheels/35/cb/a5/8f534c60142835bfc889f9a482e4a67e0b817032d9c6883b64\n",
            "Successfully built efficientnet-pytorch pretrainedmodels\n",
            "Installing collected packages: safetensors, munch, huggingface-hub, timm, pretrainedmodels, efficientnet-pytorch, segmentation-models-pytorch\n",
            "Successfully installed efficientnet-pytorch-0.7.1 huggingface-hub-0.18.0 munch-4.0.0 pretrainedmodels-0.7.4 safetensors-0.4.0 segmentation-models-pytorch-0.3.3 timm-0.9.2\n"
          ]
        }
      ]
    },
    {
      "cell_type": "code",
      "source": [
        "import ssl\n",
        "ssl._create_default_https_context = ssl._create_unverified_context"
      ],
      "metadata": {
        "id": "QP70k1_sY52l"
      },
      "execution_count": null,
      "outputs": []
    },
    {
      "cell_type": "code",
      "source": [
        "!nvidia-smi"
      ],
      "metadata": {
        "colab": {
          "base_uri": "https://localhost:8080/"
        },
        "id": "GCkEvmBRnZsC",
        "outputId": "4f028b7b-940b-49b3-e519-1816f0ff0d62"
      },
      "execution_count": null,
      "outputs": [
        {
          "output_type": "stream",
          "name": "stdout",
          "text": [
            "Mon Oct  9 20:13:46 2023       \n",
            "+-----------------------------------------------------------------------------+\n",
            "| NVIDIA-SMI 525.105.17   Driver Version: 525.105.17   CUDA Version: 12.0     |\n",
            "|-------------------------------+----------------------+----------------------+\n",
            "| GPU  Name        Persistence-M| Bus-Id        Disp.A | Volatile Uncorr. ECC |\n",
            "| Fan  Temp  Perf  Pwr:Usage/Cap|         Memory-Usage | GPU-Util  Compute M. |\n",
            "|                               |                      |               MIG M. |\n",
            "|===============================+======================+======================|\n",
            "|   0  Tesla T4            Off  | 00000000:00:04.0 Off |                    0 |\n",
            "| N/A   44C    P8     9W /  70W |      0MiB / 15360MiB |      0%      Default |\n",
            "|                               |                      |                  N/A |\n",
            "+-------------------------------+----------------------+----------------------+\n",
            "                                                                               \n",
            "+-----------------------------------------------------------------------------+\n",
            "| Processes:                                                                  |\n",
            "|  GPU   GI   CI        PID   Type   Process name                  GPU Memory |\n",
            "|        ID   ID                                                   Usage      |\n",
            "|=============================================================================|\n",
            "|  No running processes found                                                 |\n",
            "+-----------------------------------------------------------------------------+\n"
          ]
        }
      ]
    },
    {
      "cell_type": "markdown",
      "source": [
        "## Set Global Seed"
      ],
      "metadata": {
        "id": "nn59igVumdEA"
      }
    },
    {
      "cell_type": "code",
      "source": [
        "#import random\n",
        "#random.seed(13204942)"
      ],
      "metadata": {
        "id": "m6hOMvJMmWdN"
      },
      "execution_count": null,
      "outputs": []
    },
    {
      "cell_type": "markdown",
      "source": [
        "## Mount Google Drive to access your data"
      ],
      "metadata": {
        "id": "F635c1oXpyoc"
      }
    },
    {
      "cell_type": "code",
      "source": [
        "from google.colab import drive\n",
        "drive.mount('/content/drive')"
      ],
      "metadata": {
        "id": "N0kXFEkHp1up",
        "colab": {
          "base_uri": "https://localhost:8080/"
        },
        "outputId": "35b6cfe0-6529-46aa-f974-054e72dd546a"
      },
      "execution_count": null,
      "outputs": [
        {
          "output_type": "stream",
          "name": "stdout",
          "text": [
            "Mounted at /content/drive\n"
          ]
        }
      ]
    },
    {
      "cell_type": "code",
      "source": [
        "root_path = '/content/drive/MyDrive/Ultrasound_project/'"
      ],
      "metadata": {
        "id": "_niA7x-qp23A"
      },
      "execution_count": null,
      "outputs": []
    },
    {
      "cell_type": "markdown",
      "source": [
        "### Data Preparation"
      ],
      "metadata": {
        "id": "fOsT2DTQqQbj"
      }
    },
    {
      "cell_type": "code",
      "source": [
        "import cv2\n",
        "import os\n",
        "from PIL import Image\n",
        "from torch.utils.data import Dataset\n",
        "import matplotlib.pyplot as plt\n",
        "\n",
        "import albumentations as A\n",
        "from albumentations.pytorch import ToTensorV2"
      ],
      "metadata": {
        "id": "mA8a9ws6q6qz"
      },
      "execution_count": null,
      "outputs": []
    },
    {
      "cell_type": "code",
      "source": [
        "data_path = root_path + 'train_data_split/'"
      ],
      "metadata": {
        "id": "sS6tJZwyA_fI"
      },
      "execution_count": null,
      "outputs": []
    },
    {
      "cell_type": "code",
      "source": [
        "# process original mask to binary mask\n",
        "def preprocess_mask(mask):\n",
        "  # we need to use sigmoid\n",
        "  mask[mask == 255.0] = 1.0\n",
        "\n",
        "  mask = np.stack([mask], axis=-1).astype('float')\n",
        "  return mask"
      ],
      "metadata": {
        "id": "WLQ9AjMKLWLL"
      },
      "execution_count": null,
      "outputs": []
    },
    {
      "cell_type": "code",
      "source": [
        "# Dataset class\n",
        "class HeadDataset(Dataset):\n",
        "  def __init__(self, image_dir, mask_dir, transform=None):\n",
        "    self.image_dir = image_dir\n",
        "    self.mask_dir = mask_dir\n",
        "    self.transform = transform\n",
        "    self.images = os.listdir(image_dir)\n",
        "\n",
        "  def __len__(self):\n",
        "    return len(self.images)\n",
        "\n",
        "  def __getitem__(self, index):\n",
        "    img_path = os.path.join(self.image_dir, self.images[index])\n",
        "    mask_path = os.path.join(self.mask_dir, self.images[index].replace(\".png\", \"_Annotation.png\"))\n",
        "    image = cv2.imread(img_path)\n",
        "    image = cv2.cvtColor(image, cv2.COLOR_BGR2RGB)\n",
        "    mask = cv2.imread(mask_path, cv2.IMREAD_UNCHANGED).astype('float32')\n",
        "    mask[mask == 255.0] = 1.0\n",
        "\n",
        "    if self.transform is not None:\n",
        "      aug = self.transform(image=image, mask=mask)\n",
        "      image = aug[\"image\"]\n",
        "      mask = aug[\"mask\"]\n",
        "\n",
        "    return image, mask"
      ],
      "metadata": {
        "id": "VTTvSnGuqsTl"
      },
      "execution_count": null,
      "outputs": []
    },
    {
      "cell_type": "code",
      "source": [
        "# helper function for data visualization\n",
        "def visualize(**images):\n",
        "    \"\"\"Plot images in one row.\"\"\"\n",
        "    n = len(images)\n",
        "    plt.figure(figsize=(10, 5))\n",
        "    for i, (name, image) in enumerate(images.items()):\n",
        "        plt.subplot(1, n, i + 1)\n",
        "        plt.xticks([])\n",
        "        plt.yticks([])\n",
        "        plt.title(' '.join(name.split('_')).title())\n",
        "        plt.imshow(image)\n",
        "    plt.show()"
      ],
      "metadata": {
        "id": "6ApIhtqRLRLy"
      },
      "execution_count": null,
      "outputs": []
    },
    {
      "cell_type": "markdown",
      "source": [
        "## Build Model"
      ],
      "metadata": {
        "id": "RCKqY_O1p3e-"
      }
    },
    {
      "cell_type": "markdown",
      "source": [
        "We are using an existing Pytorch library, Segmentation Models (SMP), with Neural Networks for Image\n",
        "Segmentation. The official library document is [here](https://smp.readthedocs.io/)."
      ],
      "metadata": {
        "id": "JE8ZEO18fjNN"
      }
    },
    {
      "cell_type": "markdown",
      "source": [
        "P. Iakubovskii, “Segmentation models pytorch,” 2019.\n",
        "\n",
        "*@misc{Iakubovskii:2019,\n",
        "  Author = {Pavel Iakubovskii},\n",
        "  Title = {Segmentation Models Pytorch},\n",
        "  Year = {2019},\n",
        "  Publisher = {GitHub},\n",
        "  Journal = {GitHub repository},\n",
        "  Howpublished = {\\url{https://github.com/qubvel/segmentation_models.pytorch}}\n",
        "}*"
      ],
      "metadata": {
        "id": "NKK4mDPSfy4m"
      }
    },
    {
      "cell_type": "markdown",
      "source": [
        "**Avaliable architectures:**\n",
        " - Unet [[paper](https://arxiv.org/abs/1505.04597)] [[docs](https://smp.readthedocs.io/en/latest/models.html#unet)]\n"
      ],
      "metadata": {
        "id": "XSDxD8_Og7IN"
      }
    },
    {
      "cell_type": "markdown",
      "source": [
        "**Available Encoders:**\n",
        "The following is a list of supported encoders in the SMP library. The selected encoder and its pre-trained weights (encoder_name and encoder_weights parameters) are shown as below."
      ],
      "metadata": {
        "id": "VSCpyLV-h3Ny"
      }
    },
    {
      "cell_type": "markdown",
      "source": [
        "* ResNet\n",
        "\n",
        "| Encoder   | Weights               | Params, M |\n",
        "| --------- | --------------------- | --------- |\n",
        "| resnet18  | imagenet / ssl / swsl | 11M       |\n",
        "| resnet50  | imagenet / ssl / swsl | 23M       |\n",
        "| resnet101 | imagenet              | 42M       |\n",
        "| resnet152 | imagenet              | 58M       |"
      ],
      "metadata": {
        "id": "uIesjj1viN4j"
      }
    },
    {
      "cell_type": "markdown",
      "source": [
        "* Densenet\n",
        "\n",
        "|Encoder                         |Weights                         |Params, M                       |\n",
        "|--------------------------------|:------------------------------:|:------------------------------:|\n",
        "|densenet121                     |imagenet                        |6M                              |\n",
        "|densenet169                     |imagenet                        |12M                             |\n",
        "|densenet201                     |imagenet                        |18M                             |\n",
        "|densenet161                     |imagenet                        |26M                             |"
      ],
      "metadata": {
        "id": "QkSjd9sCiN7P"
      }
    },
    {
      "cell_type": "markdown",
      "source": [
        "* Inception\n",
        "\n",
        "|Encoder                         |Weights                         |Params, M                       |\n",
        "|--------------------------------|:------------------------------:|:------------------------------:|\n",
        "|inceptionresnetv2               |imagenet /  imagenet+background |54M                             |\n",
        "|inceptionv4                     |imagenet /  imagenet+background |41M                             |\n",
        "|xception                        |imagenet                        |22M                             |"
      ],
      "metadata": {
        "id": "I9PgAXaYjVnQ"
      }
    },
    {
      "cell_type": "markdown",
      "source": [
        "* Mobilenet\n",
        "\n",
        "|Encoder                         |Weights                         |Params, M                       |\n",
        "|--------------------------------|:------------------------------:|:------------------------------:|\n",
        "|mobilenet_v2                    |imagenet                        |2M                              |"
      ],
      "metadata": {
        "id": "Yg4sacdojWpk"
      }
    },
    {
      "cell_type": "markdown",
      "source": [
        "* VGG\n",
        "\n",
        "|Encoder                         |Weights                         |Params, M                       |\n",
        "|--------------------------------|:------------------------------:|:------------------------------:|\n",
        "|vgg11                           |imagenet                        |9M                              |\n",
        "|vgg13                           |imagenet                        |9M                              |\n",
        "|vgg16                           |imagenet                        |14M                             |\n",
        "|vgg19                           |imagenet                        |20M                             |"
      ],
      "metadata": {
        "id": "xhMdYOxXjWx5"
      }
    },
    {
      "cell_type": "code",
      "source": [
        "import os\n",
        "import numpy as np\n",
        "import pandas as pd\n",
        "import random, tqdm\n",
        "import seaborn as sns\n",
        "\n",
        "import torch\n",
        "import torch.nn as nn\n",
        "from torch.utils.data import DataLoader"
      ],
      "metadata": {
        "id": "65Uj_25eptPW"
      },
      "execution_count": null,
      "outputs": []
    },
    {
      "cell_type": "code",
      "source": [
        "import segmentation_models_pytorch as smp\n",
        "import segmentation_models_pytorch.utils.metrics"
      ],
      "metadata": {
        "id": "7HDbgieTpwFB"
      },
      "execution_count": null,
      "outputs": []
    },
    {
      "cell_type": "markdown",
      "source": [
        "Set pre-trained encoders. **Choose one ENCODER from above encoders list to build your model !**"
      ],
      "metadata": {
        "id": "ZC-YIvx7fdQf"
      }
    },
    {
      "cell_type": "code",
      "source": [
        "# if encoder needs to be frozen, set below flag = True\n",
        "freeze_flag = False"
      ],
      "metadata": {
        "id": "QKqEkE4FZI8I"
      },
      "execution_count": null,
      "outputs": []
    },
    {
      "cell_type": "code",
      "source": [
        "ENCODER = 'mobilenet_v2'\n",
        "\n",
        "ENCODER_WEIGHTS = 'imagenet'\n",
        "CLASSES = ['head'] # a binary classification problem to classify each pixel into one of the two classes, Class 1: Head or Class 2: Not Head\n",
        "#ACTIVATION = 'sigmoid' # could be None for logits or 'softmax2d' for multiclass segmentation\n",
        "ACTIVATION = None # could be None for logits or 'softmax2d' for multiclass segmentation\n",
        "\n",
        "AUX_PARAMS=dict(\n",
        "    pooling='max',           # one of 'avg', 'max'\n",
        "    activation='sigmoid',    # activation function, default is None\n",
        "    classes=1,               # define number of output labels\n",
        ")"
      ],
      "metadata": {
        "id": "g4u_JdEref9w"
      },
      "execution_count": null,
      "outputs": []
    },
    {
      "cell_type": "markdown",
      "source": [
        "**Select one of below architectures to build your model !**"
      ],
      "metadata": {
        "id": "bIFVOAObAOxH"
      }
    },
    {
      "cell_type": "markdown",
      "source": [
        "Build a deep learning architecture using library segmentation_models_pytorch, and then load pre-trained CNN to encoders inside the architecture."
      ],
      "metadata": {
        "id": "YhsO4X6nHd0j"
      }
    },
    {
      "cell_type": "markdown",
      "source": [
        "#### U-Net"
      ],
      "metadata": {
        "id": "GkXZoxwFkWX6"
      }
    },
    {
      "cell_type": "markdown",
      "source": [
        "<img src=https://lmb.informatik.uni-freiburg.de/people/ronneber/u-net/u-net-architecture.png width=\"450\">"
      ],
      "metadata": {
        "id": "AIj5tCx1vlwc"
      }
    },
    {
      "cell_type": "code",
      "source": [
        "# create segmentation model with pretrained encoder\n",
        "unet_model = smp.Unet(\n",
        "    encoder_name=ENCODER,\n",
        "    encoder_weights=ENCODER_WEIGHTS,  # pre-training on ImageNet\n",
        "    decoder_attention_type=None,\n",
        "    classes=len(CLASSES),\n",
        "    activation=ACTIVATION,\n",
        "    aux_params=None\n",
        ")\n",
        "\n",
        "preprocessing_fn = smp.encoders.get_preprocessing_fn(ENCODER, ENCODER_WEIGHTS)"
      ],
      "metadata": {
        "id": "1PKWiPxnkYp3",
        "colab": {
          "base_uri": "https://localhost:8080/"
        },
        "outputId": "c668a3ca-f9a6-45f2-b519-41c621eafaa2"
      },
      "execution_count": null,
      "outputs": [
        {
          "output_type": "stream",
          "name": "stderr",
          "text": [
            "Downloading: \"https://download.pytorch.org/models/mobilenet_v2-b0353104.pth\" to /root/.cache/torch/hub/checkpoints/mobilenet_v2-b0353104.pth\n",
            "100%|██████████| 13.6M/13.6M [00:00<00:00, 24.6MB/s]\n"
          ]
        }
      ]
    },
    {
      "cell_type": "code",
      "source": [
        "model = unet_model\n",
        "\n",
        "if freeze_flag:\n",
        "  model_name = f'unet_frozen_{ENCODER}'\n",
        "else:\n",
        "  model_name = f'unet_{ENCODER}'"
      ],
      "metadata": {
        "id": "GcC4m3F8kktC"
      },
      "execution_count": null,
      "outputs": []
    },
    {
      "cell_type": "code",
      "source": [
        "model.classification_head = None"
      ],
      "metadata": {
        "id": "XjCRC6J2Jpfj"
      },
      "execution_count": null,
      "outputs": []
    },
    {
      "cell_type": "code",
      "source": [
        "#print(model)"
      ],
      "metadata": {
        "id": "qHEWKny1JyjD"
      },
      "execution_count": null,
      "outputs": []
    },
    {
      "cell_type": "markdown",
      "source": [
        "#### Freeze Decoder layers partially"
      ],
      "metadata": {
        "id": "j_vMJaO2EwVQ"
      }
    },
    {
      "cell_type": "code",
      "source": [
        "# freeze segmentation head\n",
        "for param in model.segmentation_head.parameters():\n",
        "  param.requires_grad = False"
      ],
      "metadata": {
        "id": "D7q4HMnTghmb"
      },
      "execution_count": null,
      "outputs": []
    },
    {
      "cell_type": "code",
      "source": [
        "if freeze_flag:\n",
        "  for param in model.encoder.parameters():\n",
        "    param.requires_grad = False\n",
        "else:\n",
        "  for param in model.encoder.parameters():\n",
        "    param.requires_grad = True"
      ],
      "metadata": {
        "id": "YgmiXkAdO16x"
      },
      "execution_count": null,
      "outputs": []
    },
    {
      "cell_type": "code",
      "source": [
        "freeze_decoder = True"
      ],
      "metadata": {
        "id": "_LgWZDvpAfJJ"
      },
      "execution_count": null,
      "outputs": []
    },
    {
      "cell_type": "code",
      "source": [
        "if freeze_decoder:\n",
        "  # freeze all layers except the bottleneck\n",
        "  '''\n",
        "  for param in model.encoder.model.blocks[0].parameters():\n",
        "    param.requires_grad = False\n",
        "\n",
        "  for param in model.encoder.model.blocks[1].parameters():\n",
        "    param.requires_grad = False\n",
        "\n",
        "  for param in model.encoder.model.blocks[2].parameters():\n",
        "    param.requires_grad = False\n",
        "\n",
        "  for param in model.encoder.model.blocks[3].parameters():\n",
        "    param.requires_grad = False\n",
        "\n",
        "  for param in model.encoder.model.blocks[4].parameters():\n",
        "    param.requires_grad = False\n",
        "  '''\n",
        "\n",
        "  for param in model.decoder.blocks[0].parameters():\n",
        "    param.requires_grad = False\n",
        "\n",
        "  for param in model.decoder.blocks[1].parameters():\n",
        "    param.requires_grad = False\n",
        "\n",
        "  for param in model.decoder.blocks[2].parameters():\n",
        "    param.requires_grad = False\n",
        "\n",
        "  for param in model.decoder.blocks[3].parameters():\n",
        "    param.requires_grad = False\n",
        "\n",
        "  for param in model.decoder.blocks[4].parameters():\n",
        "    param.requires_grad = False\n"
      ],
      "metadata": {
        "id": "M3XS55wSEvTo"
      },
      "execution_count": null,
      "outputs": []
    },
    {
      "cell_type": "code",
      "source": [
        "DEVICE = \"cuda\" if torch.cuda.is_available() else \"cpu\"\n",
        "model = model.to(DEVICE)"
      ],
      "metadata": {
        "id": "TzdL5UJmLnlF"
      },
      "execution_count": null,
      "outputs": []
    },
    {
      "cell_type": "code",
      "source": [
        "from torchsummary import summary\n",
        "\n",
        "print(summary(model, (3, 512, 512)))"
      ],
      "metadata": {
        "id": "ox6KnhI-Labm",
        "colab": {
          "base_uri": "https://localhost:8080/"
        },
        "outputId": "d585a638-10f3-4b6b-ed8a-5e246221cdb6"
      },
      "execution_count": null,
      "outputs": [
        {
          "output_type": "stream",
          "name": "stdout",
          "text": [
            "----------------------------------------------------------------\n",
            "        Layer (type)               Output Shape         Param #\n",
            "================================================================\n",
            "            Conv2d-1         [-1, 32, 256, 256]             864\n",
            "       BatchNorm2d-2         [-1, 32, 256, 256]              64\n",
            "             ReLU6-3         [-1, 32, 256, 256]               0\n",
            "            Conv2d-4         [-1, 32, 256, 256]             288\n",
            "       BatchNorm2d-5         [-1, 32, 256, 256]              64\n",
            "             ReLU6-6         [-1, 32, 256, 256]               0\n",
            "            Conv2d-7         [-1, 16, 256, 256]             512\n",
            "       BatchNorm2d-8         [-1, 16, 256, 256]              32\n",
            "  InvertedResidual-9         [-1, 16, 256, 256]               0\n",
            "           Conv2d-10         [-1, 96, 256, 256]           1,536\n",
            "      BatchNorm2d-11         [-1, 96, 256, 256]             192\n",
            "            ReLU6-12         [-1, 96, 256, 256]               0\n",
            "           Conv2d-13         [-1, 96, 128, 128]             864\n",
            "      BatchNorm2d-14         [-1, 96, 128, 128]             192\n",
            "            ReLU6-15         [-1, 96, 128, 128]               0\n",
            "           Conv2d-16         [-1, 24, 128, 128]           2,304\n",
            "      BatchNorm2d-17         [-1, 24, 128, 128]              48\n",
            " InvertedResidual-18         [-1, 24, 128, 128]               0\n",
            "           Conv2d-19        [-1, 144, 128, 128]           3,456\n",
            "      BatchNorm2d-20        [-1, 144, 128, 128]             288\n",
            "            ReLU6-21        [-1, 144, 128, 128]               0\n",
            "           Conv2d-22        [-1, 144, 128, 128]           1,296\n",
            "      BatchNorm2d-23        [-1, 144, 128, 128]             288\n",
            "            ReLU6-24        [-1, 144, 128, 128]               0\n",
            "           Conv2d-25         [-1, 24, 128, 128]           3,456\n",
            "      BatchNorm2d-26         [-1, 24, 128, 128]              48\n",
            " InvertedResidual-27         [-1, 24, 128, 128]               0\n",
            "           Conv2d-28        [-1, 144, 128, 128]           3,456\n",
            "      BatchNorm2d-29        [-1, 144, 128, 128]             288\n",
            "            ReLU6-30        [-1, 144, 128, 128]               0\n",
            "           Conv2d-31          [-1, 144, 64, 64]           1,296\n",
            "      BatchNorm2d-32          [-1, 144, 64, 64]             288\n",
            "            ReLU6-33          [-1, 144, 64, 64]               0\n",
            "           Conv2d-34           [-1, 32, 64, 64]           4,608\n",
            "      BatchNorm2d-35           [-1, 32, 64, 64]              64\n",
            " InvertedResidual-36           [-1, 32, 64, 64]               0\n",
            "           Conv2d-37          [-1, 192, 64, 64]           6,144\n",
            "      BatchNorm2d-38          [-1, 192, 64, 64]             384\n",
            "            ReLU6-39          [-1, 192, 64, 64]               0\n",
            "           Conv2d-40          [-1, 192, 64, 64]           1,728\n",
            "      BatchNorm2d-41          [-1, 192, 64, 64]             384\n",
            "            ReLU6-42          [-1, 192, 64, 64]               0\n",
            "           Conv2d-43           [-1, 32, 64, 64]           6,144\n",
            "      BatchNorm2d-44           [-1, 32, 64, 64]              64\n",
            " InvertedResidual-45           [-1, 32, 64, 64]               0\n",
            "           Conv2d-46          [-1, 192, 64, 64]           6,144\n",
            "      BatchNorm2d-47          [-1, 192, 64, 64]             384\n",
            "            ReLU6-48          [-1, 192, 64, 64]               0\n",
            "           Conv2d-49          [-1, 192, 64, 64]           1,728\n",
            "      BatchNorm2d-50          [-1, 192, 64, 64]             384\n",
            "            ReLU6-51          [-1, 192, 64, 64]               0\n",
            "           Conv2d-52           [-1, 32, 64, 64]           6,144\n",
            "      BatchNorm2d-53           [-1, 32, 64, 64]              64\n",
            " InvertedResidual-54           [-1, 32, 64, 64]               0\n",
            "           Conv2d-55          [-1, 192, 64, 64]           6,144\n",
            "      BatchNorm2d-56          [-1, 192, 64, 64]             384\n",
            "            ReLU6-57          [-1, 192, 64, 64]               0\n",
            "           Conv2d-58          [-1, 192, 32, 32]           1,728\n",
            "      BatchNorm2d-59          [-1, 192, 32, 32]             384\n",
            "            ReLU6-60          [-1, 192, 32, 32]               0\n",
            "           Conv2d-61           [-1, 64, 32, 32]          12,288\n",
            "      BatchNorm2d-62           [-1, 64, 32, 32]             128\n",
            " InvertedResidual-63           [-1, 64, 32, 32]               0\n",
            "           Conv2d-64          [-1, 384, 32, 32]          24,576\n",
            "      BatchNorm2d-65          [-1, 384, 32, 32]             768\n",
            "            ReLU6-66          [-1, 384, 32, 32]               0\n",
            "           Conv2d-67          [-1, 384, 32, 32]           3,456\n",
            "      BatchNorm2d-68          [-1, 384, 32, 32]             768\n",
            "            ReLU6-69          [-1, 384, 32, 32]               0\n",
            "           Conv2d-70           [-1, 64, 32, 32]          24,576\n",
            "      BatchNorm2d-71           [-1, 64, 32, 32]             128\n",
            " InvertedResidual-72           [-1, 64, 32, 32]               0\n",
            "           Conv2d-73          [-1, 384, 32, 32]          24,576\n",
            "      BatchNorm2d-74          [-1, 384, 32, 32]             768\n",
            "            ReLU6-75          [-1, 384, 32, 32]               0\n",
            "           Conv2d-76          [-1, 384, 32, 32]           3,456\n",
            "      BatchNorm2d-77          [-1, 384, 32, 32]             768\n",
            "            ReLU6-78          [-1, 384, 32, 32]               0\n",
            "           Conv2d-79           [-1, 64, 32, 32]          24,576\n",
            "      BatchNorm2d-80           [-1, 64, 32, 32]             128\n",
            " InvertedResidual-81           [-1, 64, 32, 32]               0\n",
            "           Conv2d-82          [-1, 384, 32, 32]          24,576\n",
            "      BatchNorm2d-83          [-1, 384, 32, 32]             768\n",
            "            ReLU6-84          [-1, 384, 32, 32]               0\n",
            "           Conv2d-85          [-1, 384, 32, 32]           3,456\n",
            "      BatchNorm2d-86          [-1, 384, 32, 32]             768\n",
            "            ReLU6-87          [-1, 384, 32, 32]               0\n",
            "           Conv2d-88           [-1, 64, 32, 32]          24,576\n",
            "      BatchNorm2d-89           [-1, 64, 32, 32]             128\n",
            " InvertedResidual-90           [-1, 64, 32, 32]               0\n",
            "           Conv2d-91          [-1, 384, 32, 32]          24,576\n",
            "      BatchNorm2d-92          [-1, 384, 32, 32]             768\n",
            "            ReLU6-93          [-1, 384, 32, 32]               0\n",
            "           Conv2d-94          [-1, 384, 32, 32]           3,456\n",
            "      BatchNorm2d-95          [-1, 384, 32, 32]             768\n",
            "            ReLU6-96          [-1, 384, 32, 32]               0\n",
            "           Conv2d-97           [-1, 96, 32, 32]          36,864\n",
            "      BatchNorm2d-98           [-1, 96, 32, 32]             192\n",
            " InvertedResidual-99           [-1, 96, 32, 32]               0\n",
            "          Conv2d-100          [-1, 576, 32, 32]          55,296\n",
            "     BatchNorm2d-101          [-1, 576, 32, 32]           1,152\n",
            "           ReLU6-102          [-1, 576, 32, 32]               0\n",
            "          Conv2d-103          [-1, 576, 32, 32]           5,184\n",
            "     BatchNorm2d-104          [-1, 576, 32, 32]           1,152\n",
            "           ReLU6-105          [-1, 576, 32, 32]               0\n",
            "          Conv2d-106           [-1, 96, 32, 32]          55,296\n",
            "     BatchNorm2d-107           [-1, 96, 32, 32]             192\n",
            "InvertedResidual-108           [-1, 96, 32, 32]               0\n",
            "          Conv2d-109          [-1, 576, 32, 32]          55,296\n",
            "     BatchNorm2d-110          [-1, 576, 32, 32]           1,152\n",
            "           ReLU6-111          [-1, 576, 32, 32]               0\n",
            "          Conv2d-112          [-1, 576, 32, 32]           5,184\n",
            "     BatchNorm2d-113          [-1, 576, 32, 32]           1,152\n",
            "           ReLU6-114          [-1, 576, 32, 32]               0\n",
            "          Conv2d-115           [-1, 96, 32, 32]          55,296\n",
            "     BatchNorm2d-116           [-1, 96, 32, 32]             192\n",
            "InvertedResidual-117           [-1, 96, 32, 32]               0\n",
            "          Conv2d-118          [-1, 576, 32, 32]          55,296\n",
            "     BatchNorm2d-119          [-1, 576, 32, 32]           1,152\n",
            "           ReLU6-120          [-1, 576, 32, 32]               0\n",
            "          Conv2d-121          [-1, 576, 16, 16]           5,184\n",
            "     BatchNorm2d-122          [-1, 576, 16, 16]           1,152\n",
            "           ReLU6-123          [-1, 576, 16, 16]               0\n",
            "          Conv2d-124          [-1, 160, 16, 16]          92,160\n",
            "     BatchNorm2d-125          [-1, 160, 16, 16]             320\n",
            "InvertedResidual-126          [-1, 160, 16, 16]               0\n",
            "          Conv2d-127          [-1, 960, 16, 16]         153,600\n",
            "     BatchNorm2d-128          [-1, 960, 16, 16]           1,920\n",
            "           ReLU6-129          [-1, 960, 16, 16]               0\n",
            "          Conv2d-130          [-1, 960, 16, 16]           8,640\n",
            "     BatchNorm2d-131          [-1, 960, 16, 16]           1,920\n",
            "           ReLU6-132          [-1, 960, 16, 16]               0\n",
            "          Conv2d-133          [-1, 160, 16, 16]         153,600\n",
            "     BatchNorm2d-134          [-1, 160, 16, 16]             320\n",
            "InvertedResidual-135          [-1, 160, 16, 16]               0\n",
            "          Conv2d-136          [-1, 960, 16, 16]         153,600\n",
            "     BatchNorm2d-137          [-1, 960, 16, 16]           1,920\n",
            "           ReLU6-138          [-1, 960, 16, 16]               0\n",
            "          Conv2d-139          [-1, 960, 16, 16]           8,640\n",
            "     BatchNorm2d-140          [-1, 960, 16, 16]           1,920\n",
            "           ReLU6-141          [-1, 960, 16, 16]               0\n",
            "          Conv2d-142          [-1, 160, 16, 16]         153,600\n",
            "     BatchNorm2d-143          [-1, 160, 16, 16]             320\n",
            "InvertedResidual-144          [-1, 160, 16, 16]               0\n",
            "          Conv2d-145          [-1, 960, 16, 16]         153,600\n",
            "     BatchNorm2d-146          [-1, 960, 16, 16]           1,920\n",
            "           ReLU6-147          [-1, 960, 16, 16]               0\n",
            "          Conv2d-148          [-1, 960, 16, 16]           8,640\n",
            "     BatchNorm2d-149          [-1, 960, 16, 16]           1,920\n",
            "           ReLU6-150          [-1, 960, 16, 16]               0\n",
            "          Conv2d-151          [-1, 320, 16, 16]         307,200\n",
            "     BatchNorm2d-152          [-1, 320, 16, 16]             640\n",
            "InvertedResidual-153          [-1, 320, 16, 16]               0\n",
            "          Conv2d-154         [-1, 1280, 16, 16]         409,600\n",
            "     BatchNorm2d-155         [-1, 1280, 16, 16]           2,560\n",
            "           ReLU6-156         [-1, 1280, 16, 16]               0\n",
            "MobileNetV2Encoder-157  [[-1, 3, 512, 512], [-1, 16, 256, 256], [-1, 24, 128, 128], [-1, 32, 64, 64], [-1, 96, 32, 32], [-1, 1280, 16, 16]]               0\n",
            "        Identity-158         [-1, 1280, 16, 16]               0\n",
            "        Identity-159         [-1, 1376, 32, 32]               0\n",
            "       Attention-160         [-1, 1376, 32, 32]               0\n",
            "          Conv2d-161          [-1, 256, 32, 32]       3,170,304\n",
            "     BatchNorm2d-162          [-1, 256, 32, 32]             512\n",
            "            ReLU-163          [-1, 256, 32, 32]               0\n",
            "          Conv2d-164          [-1, 256, 32, 32]         589,824\n",
            "     BatchNorm2d-165          [-1, 256, 32, 32]             512\n",
            "            ReLU-166          [-1, 256, 32, 32]               0\n",
            "        Identity-167          [-1, 256, 32, 32]               0\n",
            "       Attention-168          [-1, 256, 32, 32]               0\n",
            "    DecoderBlock-169          [-1, 256, 32, 32]               0\n",
            "        Identity-170          [-1, 288, 64, 64]               0\n",
            "       Attention-171          [-1, 288, 64, 64]               0\n",
            "          Conv2d-172          [-1, 128, 64, 64]         331,776\n",
            "     BatchNorm2d-173          [-1, 128, 64, 64]             256\n",
            "            ReLU-174          [-1, 128, 64, 64]               0\n",
            "          Conv2d-175          [-1, 128, 64, 64]         147,456\n",
            "     BatchNorm2d-176          [-1, 128, 64, 64]             256\n",
            "            ReLU-177          [-1, 128, 64, 64]               0\n",
            "        Identity-178          [-1, 128, 64, 64]               0\n",
            "       Attention-179          [-1, 128, 64, 64]               0\n",
            "    DecoderBlock-180          [-1, 128, 64, 64]               0\n",
            "        Identity-181        [-1, 152, 128, 128]               0\n",
            "       Attention-182        [-1, 152, 128, 128]               0\n",
            "          Conv2d-183         [-1, 64, 128, 128]          87,552\n",
            "     BatchNorm2d-184         [-1, 64, 128, 128]             128\n",
            "            ReLU-185         [-1, 64, 128, 128]               0\n",
            "          Conv2d-186         [-1, 64, 128, 128]          36,864\n",
            "     BatchNorm2d-187         [-1, 64, 128, 128]             128\n",
            "            ReLU-188         [-1, 64, 128, 128]               0\n",
            "        Identity-189         [-1, 64, 128, 128]               0\n",
            "       Attention-190         [-1, 64, 128, 128]               0\n",
            "    DecoderBlock-191         [-1, 64, 128, 128]               0\n",
            "        Identity-192         [-1, 80, 256, 256]               0\n",
            "       Attention-193         [-1, 80, 256, 256]               0\n",
            "          Conv2d-194         [-1, 32, 256, 256]          23,040\n",
            "     BatchNorm2d-195         [-1, 32, 256, 256]              64\n",
            "            ReLU-196         [-1, 32, 256, 256]               0\n",
            "          Conv2d-197         [-1, 32, 256, 256]           9,216\n",
            "     BatchNorm2d-198         [-1, 32, 256, 256]              64\n",
            "            ReLU-199         [-1, 32, 256, 256]               0\n",
            "        Identity-200         [-1, 32, 256, 256]               0\n",
            "       Attention-201         [-1, 32, 256, 256]               0\n",
            "    DecoderBlock-202         [-1, 32, 256, 256]               0\n",
            "          Conv2d-203         [-1, 16, 512, 512]           4,608\n",
            "     BatchNorm2d-204         [-1, 16, 512, 512]              32\n",
            "            ReLU-205         [-1, 16, 512, 512]               0\n",
            "          Conv2d-206         [-1, 16, 512, 512]           2,304\n",
            "     BatchNorm2d-207         [-1, 16, 512, 512]              32\n",
            "            ReLU-208         [-1, 16, 512, 512]               0\n",
            "        Identity-209         [-1, 16, 512, 512]               0\n",
            "       Attention-210         [-1, 16, 512, 512]               0\n",
            "    DecoderBlock-211         [-1, 16, 512, 512]               0\n",
            "     UnetDecoder-212         [-1, 16, 512, 512]               0\n",
            "          Conv2d-213          [-1, 1, 512, 512]             145\n",
            "        Identity-214          [-1, 1, 512, 512]               0\n",
            "        Identity-215          [-1, 1, 512, 512]               0\n",
            "      Activation-216          [-1, 1, 512, 512]               0\n",
            "================================================================\n",
            "Total params: 6,628,945\n",
            "Trainable params: 2,223,872\n",
            "Non-trainable params: 4,405,073\n",
            "----------------------------------------------------------------\n",
            "Input size (MB): 3.00\n",
            "Forward/backward pass size (MB): 1556.56\n",
            "Params size (MB): 25.29\n",
            "Estimated Total Size (MB): 1584.85\n",
            "----------------------------------------------------------------\n",
            "None\n"
          ]
        }
      ]
    },
    {
      "cell_type": "markdown",
      "source": [
        "## Training Model"
      ],
      "metadata": {
        "id": "tVv-6l2qi16-"
      }
    },
    {
      "cell_type": "code",
      "source": [
        "# Hyperparameters etc.\n",
        "LEARNING_RATE = 1e-4\n",
        "DEVICE = \"cuda\" if torch.cuda.is_available() else \"cpu\"\n",
        "BATCH_SIZE = 10\n",
        "NUM_EPOCHS = 20 # 5 warm-up\n",
        "NUM_WORKERS = 2\n",
        "# UNet DeepLab3+\n",
        "#IMAGE_HEIGHT = 240  # 540 originally\n",
        "#IMAGE_WIDTH = 240  # 800 originally\n",
        "# FPN\n",
        "IMAGE_HEIGHT = 512  # 540 originally\n",
        "IMAGE_WIDTH = 512  # 800 originally\n",
        "\n",
        "PIN_MEMORY = True\n",
        "LOAD_MODEL = False"
      ],
      "metadata": {
        "id": "ngqtv85ZeeyK"
      },
      "execution_count": null,
      "outputs": []
    },
    {
      "cell_type": "code",
      "source": [
        "DEVICE"
      ],
      "metadata": {
        "id": "W4DZrxrIwZjN",
        "outputId": "a4d3f2d9-7ce3-4e92-bd1c-325ef2224ec5",
        "colab": {
          "base_uri": "https://localhost:8080/",
          "height": 35
        }
      },
      "execution_count": null,
      "outputs": [
        {
          "output_type": "execute_result",
          "data": {
            "text/plain": [
              "'cuda'"
            ],
            "application/vnd.google.colaboratory.intrinsic+json": {
              "type": "string"
            }
          },
          "metadata": {},
          "execution_count": 18
        }
      ]
    },
    {
      "cell_type": "markdown",
      "source": [
        "#### Set-up Data Loader"
      ],
      "metadata": {
        "id": "DOg0bp6zMr6A"
      }
    },
    {
      "cell_type": "code",
      "source": [
        "train_transform = A.Compose(\n",
        "    [\n",
        "        A.Resize(height=IMAGE_HEIGHT, width=IMAGE_WIDTH),\n",
        "        A.Rotate(limit=25, p=1.0),\n",
        "        A.HorizontalFlip(p=0.5),\n",
        "        A.VerticalFlip(p=0.1),\n",
        "        A.Normalize(\n",
        "            mean=[0.0, 0.0, 0.0],\n",
        "            std=[1.0, 1.0, 1.0],\n",
        "            max_pixel_value=255.0,\n",
        "        ),\n",
        "        ToTensorV2(),\n",
        "     ],\n",
        ")\n",
        "\n",
        "val_transforms = A.Compose(\n",
        "    [\n",
        "        A.Resize(height=IMAGE_HEIGHT, width=IMAGE_WIDTH),\n",
        "        A.Normalize(\n",
        "            mean=[0.0, 0.0, 0.0],\n",
        "            std=[1.0, 1.0, 1.0],\n",
        "            max_pixel_value=255.0,\n",
        "        ),\n",
        "        ToTensorV2(),\n",
        "     ],\n",
        ")"
      ],
      "metadata": {
        "id": "Hwbw1kZWMgvy"
      },
      "execution_count": null,
      "outputs": []
    },
    {
      "cell_type": "markdown",
      "source": [
        "#### Load Dataset"
      ],
      "metadata": {
        "id": "Ls95OXjcqVMn"
      }
    },
    {
      "cell_type": "code",
      "source": [
        "print(data_path)\n",
        "#train_ds = torch.load(data_path + 'split_train_size_10.pt')\n",
        "#train_ds = torch.load(data_path + 'split_train_size_30.pt')\n",
        "#train_ds = torch.load(data_path + 'split_train_size_50.pt')\n",
        "\n",
        "test_ds = torch.load(data_path + 'test_data_size_200.pt')"
      ],
      "metadata": {
        "colab": {
          "base_uri": "https://localhost:8080/"
        },
        "id": "fBi1E47Oq2hJ",
        "outputId": "97e84080-a717-4bf0-866a-c6f7956cf5e1"
      },
      "execution_count": null,
      "outputs": [
        {
          "output_type": "stream",
          "name": "stdout",
          "text": [
            "/content/drive/MyDrive/Ultrasound_project/train_data_split/\n"
          ]
        }
      ]
    },
    {
      "cell_type": "code",
      "source": [
        "print(f'The lenght of train dataset: {len(train_ds)}')\n",
        "print(f'The lenght of test dataset: {len(test_ds)}')"
      ],
      "metadata": {
        "colab": {
          "base_uri": "https://localhost:8080/"
        },
        "id": "tC2562lsruSq",
        "outputId": "230516f1-3ec1-4aa0-a96a-6632aefe8a7a"
      },
      "execution_count": null,
      "outputs": [
        {
          "output_type": "stream",
          "name": "stdout",
          "text": [
            "The lenght of train dataset: 399\n",
            "The lenght of test dataset: 200\n"
          ]
        }
      ]
    },
    {
      "cell_type": "markdown",
      "source": [
        "#### Start DataLoader"
      ],
      "metadata": {
        "id": "3GrInJvO_nkF"
      }
    },
    {
      "cell_type": "code",
      "source": [
        "train_loader = DataLoader(\n",
        "    train_ds,\n",
        "    batch_size=BATCH_SIZE,\n",
        "    num_workers=NUM_WORKERS,\n",
        "    pin_memory=PIN_MEMORY,\n",
        "    shuffle=True,\n",
        ")\n",
        "\n",
        "print(len(train_loader))"
      ],
      "metadata": {
        "id": "mNCC5b6ktlb4"
      },
      "execution_count": null,
      "outputs": []
    },
    {
      "cell_type": "code",
      "source": [
        "val_loader = DataLoader(\n",
        "    test_ds,\n",
        "    batch_size=BATCH_SIZE,\n",
        "    num_workers=NUM_WORKERS,\n",
        "    pin_memory=PIN_MEMORY,\n",
        "    shuffle=False,\n",
        ")\n",
        "\n",
        "print(len(val_loader))"
      ],
      "metadata": {
        "id": "FMf_4HywNeP6"
      },
      "execution_count": null,
      "outputs": []
    },
    {
      "cell_type": "markdown",
      "source": [
        "#### Create a Function for Training"
      ],
      "metadata": {
        "id": "YBpGK3qT_dD7"
      }
    },
    {
      "cell_type": "code",
      "source": [
        "from tqdm import tqdm\n",
        "import torch.optim as optim"
      ],
      "metadata": {
        "id": "Q9PiVbUBR01I"
      },
      "execution_count": null,
      "outputs": []
    },
    {
      "cell_type": "code",
      "source": [
        "def train_fn(loader, model, optimizer, loss_fn, scaler):\n",
        "  loop = tqdm(loader)\n",
        "  losses = []\n",
        "\n",
        "  for batch_idx, (data, targets) in enumerate(loop):\n",
        "    data = data.to(device=DEVICE)\n",
        "    targets = targets.float().unsqueeze(1).to(device=DEVICE)\n",
        "\n",
        "    # forward\n",
        "    with torch.cuda.amp.autocast():\n",
        "      predictions = model(data)\n",
        "      #loss = loss_fn(predictions[0], targets)\n",
        "      loss = loss_fn(predictions, targets)\n",
        "      losses.append(loss.item())\n",
        "\n",
        "    # backward\n",
        "    optimizer.zero_grad()\n",
        "    scaler.scale(loss).backward()\n",
        "    scaler.step(optimizer)\n",
        "    scaler.update()\n",
        "\n",
        "    # update tqdm loop\n",
        "    loop.set_postfix(loss=loss.item())\n",
        "\n",
        "  return losses #loss.item()"
      ],
      "metadata": {
        "id": "NcHgomI8Uhva"
      },
      "execution_count": null,
      "outputs": []
    },
    {
      "cell_type": "code",
      "source": [
        "def check_accuracy(loader, model, loss_fn, pix_acc, dice, iou, device=\"cuda\", is_train=True):\n",
        "    num_correct = 0\n",
        "    num_pixels = 0\n",
        "    dice_score = 0.0\n",
        "    iou_val = 0.0\n",
        "    losses = []\n",
        "    model.eval()\n",
        "\n",
        "    with torch.no_grad():\n",
        "        for x, y in loader:\n",
        "            x = x.to(device)\n",
        "            y = y.to(device).unsqueeze(1)\n",
        "            prediction = model(x)\n",
        "            loss = loss_fn(prediction, y.float())\n",
        "            losses.append(loss.item())\n",
        "\n",
        "            #preds = preds[0]\n",
        "            preds = torch.sigmoid(prediction)\n",
        "            preds = (preds > 0.5).float()\n",
        "            num_correct += (preds == y).sum()\n",
        "            num_pixels += torch.numel(preds)\n",
        "            dice_score += (2 * (preds * y).sum()) / (\n",
        "                (preds + y).sum() + 1e-8\n",
        "                )\n",
        "            iou_val += (preds * y).sum() / (\n",
        "                (preds + y).sum() - (preds * y).sum() + 1e-8\n",
        "                )\n",
        "\n",
        "    p_acc = num_correct/num_pixels*100\n",
        "    print(f\"Got {p_acc} with acc {p_acc:.4f}\")\n",
        "    pix_acc.append(p_acc.item())\n",
        "\n",
        "    d_score = dice_score * 100 / len(loader)\n",
        "    print(f\"Dice score: {d_score:.4f}\")\n",
        "    dice.append(d_score.item())\n",
        "\n",
        "    iou_score = iou_val * 100 / len(loader)\n",
        "    print(f\"mIoU: {iou_score:.4f}\")\n",
        "    iou.append(iou_score.item())\n",
        "\n",
        "    print(f\"Got validation loss: {np.mean(losses):.6f}\")\n",
        "\n",
        "    if is_train:\n",
        "      model.train()\n",
        "\n",
        "    return pix_acc, dice, iou, losses"
      ],
      "metadata": {
        "id": "rkhQQvp4Uuw4"
      },
      "execution_count": null,
      "outputs": []
    },
    {
      "cell_type": "markdown",
      "source": [
        "#### Start Training"
      ],
      "metadata": {
        "id": "kh7PPVQW_Tpo"
      }
    },
    {
      "cell_type": "code",
      "source": [
        "model = model.to(DEVICE)\n",
        "loss_fn = nn.BCEWithLogitsLoss()\n",
        "optimizer = optim.Adam(model.parameters(), lr=LEARNING_RATE)\n",
        "scaler = torch.cuda.amp.GradScaler()"
      ],
      "metadata": {
        "id": "whWpHY7BWqZk"
      },
      "execution_count": null,
      "outputs": []
    },
    {
      "cell_type": "code",
      "source": [
        "best_loss = 1.0\n",
        "\n",
        "pix_acc = []\n",
        "dice = []\n",
        "miou = []\n",
        "ep_loss = []\n",
        "tr_loss_global = []\n",
        "val_loss_global = []\n",
        "\n",
        "for epoch in range(NUM_EPOCHS):\n",
        "  print(f\"{epoch}:\")\n",
        "  current_loss = train_fn(train_loader, model, optimizer, loss_fn, scaler)\n",
        "  tr_loss_global += current_loss\n",
        "  print(\".\\n\")\n",
        "  print(f\"Got training loss: {np.mean(current_loss):.6f}\")\n",
        "\n",
        "  # check accuracy\n",
        "  pix_acc, dice_score, m_iou, ep_loss = check_accuracy(val_loader, model, loss_fn, pix_acc, dice, miou, device=DEVICE)\n",
        "  val_loss_global += ep_loss\n",
        "\n",
        "  # print some examples to a folder\n",
        "  #save_predictions_as_imgs(val_loader, model, folder=\"saved_images/\", device=DEVICE)"
      ],
      "metadata": {
        "id": "pOpJaFMhRt4z",
        "colab": {
          "base_uri": "https://localhost:8080/"
        },
        "outputId": "697dfe8a-c97c-496b-ff45-572d99b48f75"
      },
      "execution_count": null,
      "outputs": [
        {
          "output_type": "stream",
          "name": "stdout",
          "text": [
            "0:\n"
          ]
        },
        {
          "output_type": "stream",
          "name": "stderr",
          "text": [
            "100%|██████████| 40/40 [01:51<00:00,  2.80s/it, loss=0.574]"
          ]
        },
        {
          "output_type": "stream",
          "name": "stdout",
          "text": [
            ".\n",
            "\n",
            "Got training loss: 0.628919\n"
          ]
        },
        {
          "output_type": "stream",
          "name": "stderr",
          "text": [
            "\n"
          ]
        },
        {
          "output_type": "stream",
          "name": "stdout",
          "text": [
            "Got 73.1783447265625 with acc 73.1783\n",
            "Dice score: 61.5071\n",
            "mIoU: 44.4806\n",
            "Got validation loss: 0.577611\n",
            "1:\n"
          ]
        },
        {
          "output_type": "stream",
          "name": "stderr",
          "text": [
            "100%|██████████| 40/40 [00:13<00:00,  3.00it/s, loss=0.519]"
          ]
        },
        {
          "output_type": "stream",
          "name": "stdout",
          "text": [
            ".\n",
            "\n",
            "Got training loss: 0.533927\n"
          ]
        },
        {
          "output_type": "stream",
          "name": "stderr",
          "text": [
            "\n"
          ]
        },
        {
          "output_type": "stream",
          "name": "stdout",
          "text": [
            "Got 82.47954559326172 with acc 82.4795\n",
            "Dice score: 75.5059\n",
            "mIoU: 60.7698\n",
            "Got validation loss: 0.480326\n",
            "2:\n"
          ]
        },
        {
          "output_type": "stream",
          "name": "stderr",
          "text": [
            "100%|██████████| 40/40 [00:13<00:00,  3.04it/s, loss=0.445]"
          ]
        },
        {
          "output_type": "stream",
          "name": "stdout",
          "text": [
            ".\n",
            "\n",
            "Got training loss: 0.471458\n"
          ]
        },
        {
          "output_type": "stream",
          "name": "stderr",
          "text": [
            "\n"
          ]
        },
        {
          "output_type": "stream",
          "name": "stdout",
          "text": [
            "Got 86.33845520019531 with acc 86.3385\n",
            "Dice score: 80.4289\n",
            "mIoU: 67.3840\n",
            "Got validation loss: 0.444476\n",
            "3:\n"
          ]
        },
        {
          "output_type": "stream",
          "name": "stderr",
          "text": [
            "100%|██████████| 40/40 [00:12<00:00,  3.16it/s, loss=0.43]"
          ]
        },
        {
          "output_type": "stream",
          "name": "stdout",
          "text": [
            ".\n",
            "\n",
            "Got training loss: 0.437446\n"
          ]
        },
        {
          "output_type": "stream",
          "name": "stderr",
          "text": [
            "\n"
          ]
        },
        {
          "output_type": "stream",
          "name": "stdout",
          "text": [
            "Got 89.1964340209961 with acc 89.1964\n",
            "Dice score: 83.8850\n",
            "mIoU: 72.3381\n",
            "Got validation loss: 0.425106\n",
            "4:\n"
          ]
        },
        {
          "output_type": "stream",
          "name": "stderr",
          "text": [
            "100%|██████████| 40/40 [00:13<00:00,  2.98it/s, loss=0.403]"
          ]
        },
        {
          "output_type": "stream",
          "name": "stdout",
          "text": [
            ".\n",
            "\n",
            "Got training loss: 0.418698\n"
          ]
        },
        {
          "output_type": "stream",
          "name": "stderr",
          "text": [
            "\n"
          ]
        },
        {
          "output_type": "stream",
          "name": "stdout",
          "text": [
            "Got 90.51113891601562 with acc 90.5111\n",
            "Dice score: 85.8208\n",
            "mIoU: 75.2625\n",
            "Got validation loss: 0.407891\n",
            "5:\n"
          ]
        },
        {
          "output_type": "stream",
          "name": "stderr",
          "text": [
            "100%|██████████| 40/40 [00:13<00:00,  2.98it/s, loss=0.41]"
          ]
        },
        {
          "output_type": "stream",
          "name": "stdout",
          "text": [
            ".\n",
            "\n",
            "Got training loss: 0.403258\n"
          ]
        },
        {
          "output_type": "stream",
          "name": "stderr",
          "text": [
            "\n"
          ]
        },
        {
          "output_type": "stream",
          "name": "stdout",
          "text": [
            "Got 91.73511505126953 with acc 91.7351\n",
            "Dice score: 87.4203\n",
            "mIoU: 77.7273\n",
            "Got validation loss: 0.397249\n",
            "6:\n"
          ]
        },
        {
          "output_type": "stream",
          "name": "stderr",
          "text": [
            "100%|██████████| 40/40 [00:13<00:00,  3.01it/s, loss=0.38]"
          ]
        },
        {
          "output_type": "stream",
          "name": "stdout",
          "text": [
            ".\n",
            "\n",
            "Got training loss: 0.392908\n"
          ]
        },
        {
          "output_type": "stream",
          "name": "stderr",
          "text": [
            "\n"
          ]
        },
        {
          "output_type": "stream",
          "name": "stdout",
          "text": [
            "Got 92.37334442138672 with acc 92.3733\n",
            "Dice score: 88.3955\n",
            "mIoU: 79.3134\n",
            "Got validation loss: 0.388406\n",
            "7:\n"
          ]
        },
        {
          "output_type": "stream",
          "name": "stderr",
          "text": [
            "100%|██████████| 40/40 [00:12<00:00,  3.29it/s, loss=0.363]"
          ]
        },
        {
          "output_type": "stream",
          "name": "stdout",
          "text": [
            ".\n",
            "\n",
            "Got training loss: 0.381119\n"
          ]
        },
        {
          "output_type": "stream",
          "name": "stderr",
          "text": [
            "\n"
          ]
        },
        {
          "output_type": "stream",
          "name": "stdout",
          "text": [
            "Got 93.48493957519531 with acc 93.4849\n",
            "Dice score: 89.9329\n",
            "mIoU: 81.7738\n",
            "Got validation loss: 0.375484\n",
            "8:\n"
          ]
        },
        {
          "output_type": "stream",
          "name": "stderr",
          "text": [
            "100%|██████████| 40/40 [00:13<00:00,  2.97it/s, loss=0.382]"
          ]
        },
        {
          "output_type": "stream",
          "name": "stdout",
          "text": [
            ".\n",
            "\n",
            "Got training loss: 0.372206\n"
          ]
        },
        {
          "output_type": "stream",
          "name": "stderr",
          "text": [
            "\n"
          ]
        },
        {
          "output_type": "stream",
          "name": "stdout",
          "text": [
            "Got 93.83536529541016 with acc 93.8354\n",
            "Dice score: 90.4713\n",
            "mIoU: 82.6607\n",
            "Got validation loss: 0.368848\n",
            "9:\n"
          ]
        },
        {
          "output_type": "stream",
          "name": "stderr",
          "text": [
            "100%|██████████| 40/40 [00:13<00:00,  2.97it/s, loss=0.355]"
          ]
        },
        {
          "output_type": "stream",
          "name": "stdout",
          "text": [
            ".\n",
            "\n",
            "Got training loss: 0.365489\n"
          ]
        },
        {
          "output_type": "stream",
          "name": "stderr",
          "text": [
            "\n"
          ]
        },
        {
          "output_type": "stream",
          "name": "stdout",
          "text": [
            "Got 94.5398178100586 with acc 94.5398\n",
            "Dice score: 91.4492\n",
            "mIoU: 84.2925\n",
            "Got validation loss: 0.360503\n",
            "10:\n"
          ]
        },
        {
          "output_type": "stream",
          "name": "stderr",
          "text": [
            "100%|██████████| 40/40 [00:13<00:00,  2.98it/s, loss=0.36]"
          ]
        },
        {
          "output_type": "stream",
          "name": "stdout",
          "text": [
            ".\n",
            "\n",
            "Got training loss: 0.358394\n"
          ]
        },
        {
          "output_type": "stream",
          "name": "stderr",
          "text": [
            "\n"
          ]
        },
        {
          "output_type": "stream",
          "name": "stdout",
          "text": [
            "Got 94.7889175415039 with acc 94.7889\n",
            "Dice score: 91.8574\n",
            "mIoU: 85.0010\n",
            "Got validation loss: 0.352998\n",
            "11:\n"
          ]
        },
        {
          "output_type": "stream",
          "name": "stderr",
          "text": [
            "100%|██████████| 40/40 [00:12<00:00,  3.20it/s, loss=0.342]"
          ]
        },
        {
          "output_type": "stream",
          "name": "stdout",
          "text": [
            ".\n",
            "\n",
            "Got training loss: 0.351781\n"
          ]
        },
        {
          "output_type": "stream",
          "name": "stderr",
          "text": [
            "\n"
          ]
        },
        {
          "output_type": "stream",
          "name": "stdout",
          "text": [
            "Got 95.33594512939453 with acc 95.3359\n",
            "Dice score: 92.6467\n",
            "mIoU: 86.3450\n",
            "Got validation loss: 0.346170\n",
            "12:\n"
          ]
        },
        {
          "output_type": "stream",
          "name": "stderr",
          "text": [
            "100%|██████████| 40/40 [00:13<00:00,  2.95it/s, loss=0.342]"
          ]
        },
        {
          "output_type": "stream",
          "name": "stdout",
          "text": [
            ".\n",
            "\n",
            "Got training loss: 0.345362\n"
          ]
        },
        {
          "output_type": "stream",
          "name": "stderr",
          "text": [
            "\n"
          ]
        },
        {
          "output_type": "stream",
          "name": "stdout",
          "text": [
            "Got 95.6138916015625 with acc 95.6139\n",
            "Dice score: 93.0545\n",
            "mIoU: 87.0489\n",
            "Got validation loss: 0.343610\n",
            "13:\n"
          ]
        },
        {
          "output_type": "stream",
          "name": "stderr",
          "text": [
            "100%|██████████| 40/40 [00:13<00:00,  2.96it/s, loss=0.341]"
          ]
        },
        {
          "output_type": "stream",
          "name": "stdout",
          "text": [
            ".\n",
            "\n",
            "Got training loss: 0.341786\n"
          ]
        },
        {
          "output_type": "stream",
          "name": "stderr",
          "text": [
            "\n"
          ]
        },
        {
          "output_type": "stream",
          "name": "stdout",
          "text": [
            "Got 95.97056579589844 with acc 95.9706\n",
            "Dice score: 93.5924\n",
            "mIoU: 87.9882\n",
            "Got validation loss: 0.337927\n",
            "14:\n"
          ]
        },
        {
          "output_type": "stream",
          "name": "stderr",
          "text": [
            "100%|██████████| 40/40 [00:13<00:00,  3.01it/s, loss=0.33]"
          ]
        },
        {
          "output_type": "stream",
          "name": "stdout",
          "text": [
            ".\n",
            "\n",
            "Got training loss: 0.333975\n"
          ]
        },
        {
          "output_type": "stream",
          "name": "stderr",
          "text": [
            "\n"
          ]
        },
        {
          "output_type": "stream",
          "name": "stdout",
          "text": [
            "Got 96.14095306396484 with acc 96.1410\n",
            "Dice score: 93.8706\n",
            "mIoU: 88.4849\n",
            "Got validation loss: 0.333476\n",
            "15:\n"
          ]
        },
        {
          "output_type": "stream",
          "name": "stderr",
          "text": [
            "100%|██████████| 40/40 [00:12<00:00,  3.09it/s, loss=0.333]"
          ]
        },
        {
          "output_type": "stream",
          "name": "stdout",
          "text": [
            ".\n",
            "\n",
            "Got training loss: 0.330725\n"
          ]
        },
        {
          "output_type": "stream",
          "name": "stderr",
          "text": [
            "\n"
          ]
        },
        {
          "output_type": "stream",
          "name": "stdout",
          "text": [
            "Got 96.55612182617188 with acc 96.5561\n",
            "Dice score: 94.4749\n",
            "mIoU: 89.5595\n",
            "Got validation loss: 0.327364\n",
            "16:\n"
          ]
        },
        {
          "output_type": "stream",
          "name": "stderr",
          "text": [
            "100%|██████████| 40/40 [00:12<00:00,  3.15it/s, loss=0.331]"
          ]
        },
        {
          "output_type": "stream",
          "name": "stdout",
          "text": [
            ".\n",
            "\n",
            "Got training loss: 0.326455\n"
          ]
        },
        {
          "output_type": "stream",
          "name": "stderr",
          "text": [
            "\n"
          ]
        },
        {
          "output_type": "stream",
          "name": "stdout",
          "text": [
            "Got 96.56141662597656 with acc 96.5614\n",
            "Dice score: 94.5139\n",
            "mIoU: 89.6275\n",
            "Got validation loss: 0.324150\n",
            "17:\n"
          ]
        },
        {
          "output_type": "stream",
          "name": "stderr",
          "text": [
            "100%|██████████| 40/40 [00:13<00:00,  2.98it/s, loss=0.333]"
          ]
        },
        {
          "output_type": "stream",
          "name": "stdout",
          "text": [
            ".\n",
            "\n",
            "Got training loss: 0.321996\n"
          ]
        },
        {
          "output_type": "stream",
          "name": "stderr",
          "text": [
            "\n"
          ]
        },
        {
          "output_type": "stream",
          "name": "stdout",
          "text": [
            "Got 96.78456115722656 with acc 96.7846\n",
            "Dice score: 94.8199\n",
            "mIoU: 90.1861\n",
            "Got validation loss: 0.322231\n",
            "18:\n"
          ]
        },
        {
          "output_type": "stream",
          "name": "stderr",
          "text": [
            "100%|██████████| 40/40 [00:13<00:00,  2.95it/s, loss=0.309]"
          ]
        },
        {
          "output_type": "stream",
          "name": "stdout",
          "text": [
            ".\n",
            "\n",
            "Got training loss: 0.319752\n"
          ]
        },
        {
          "output_type": "stream",
          "name": "stderr",
          "text": [
            "\n"
          ]
        },
        {
          "output_type": "stream",
          "name": "stdout",
          "text": [
            "Got 97.01773071289062 with acc 97.0177\n",
            "Dice score: 95.1986\n",
            "mIoU: 90.8570\n",
            "Got validation loss: 0.316880\n",
            "19:\n"
          ]
        },
        {
          "output_type": "stream",
          "name": "stderr",
          "text": [
            "100%|██████████| 40/40 [00:13<00:00,  2.99it/s, loss=0.304]"
          ]
        },
        {
          "output_type": "stream",
          "name": "stdout",
          "text": [
            ".\n",
            "\n",
            "Got training loss: 0.317326\n"
          ]
        },
        {
          "output_type": "stream",
          "name": "stderr",
          "text": [
            "\n"
          ]
        },
        {
          "output_type": "stream",
          "name": "stdout",
          "text": [
            "Got 96.96895599365234 with acc 96.9690\n",
            "Dice score: 95.1214\n",
            "mIoU: 90.7261\n",
            "Got validation loss: 0.317468\n"
          ]
        }
      ]
    },
    {
      "cell_type": "markdown",
      "source": [
        "Write results to a txt file."
      ],
      "metadata": {
        "id": "dh82Wv5UtjwJ"
      }
    },
    {
      "cell_type": "code",
      "source": [
        "np.savetxt(\"tr_loss_global_222m_50per_1.txt\", np.array(tr_loss_global))\n",
        "np.savetxt(\"val_loss_global_222m_50per_1.txt\", np.array(val_loss_global))"
      ],
      "metadata": {
        "id": "i-vqQE5HtiIp"
      },
      "execution_count": null,
      "outputs": []
    },
    {
      "cell_type": "markdown",
      "source": [
        "Calculate average Pixel Accuracy:"
      ],
      "metadata": {
        "id": "h16JGrVqlUUI"
      }
    },
    {
      "cell_type": "code",
      "source": [
        "print(np.round(np.mean(pix_acc[5:]), 4)) # without warm-up\n",
        "print(np.round(np.std(pix_acc[5:]), 6)) # without warm-up"
      ],
      "metadata": {
        "id": "pVskjNI5ZqHT"
      },
      "execution_count": null,
      "outputs": []
    },
    {
      "cell_type": "markdown",
      "source": [
        "Calculate average Dice Score:"
      ],
      "metadata": {
        "id": "JTZ1JxngldKa"
      }
    },
    {
      "cell_type": "code",
      "source": [
        "print(np.round(np.mean(dice_score[5:]), 6)) # without warm-up\n",
        "print(np.round(np.std(dice_score[5:]), 6)) # without warm-up"
      ],
      "metadata": {
        "id": "bCsIs_SmbLcD"
      },
      "execution_count": null,
      "outputs": []
    },
    {
      "cell_type": "markdown",
      "source": [
        "Calculate average IoU:"
      ],
      "metadata": {
        "id": "lCKmdh7rJAQH"
      }
    },
    {
      "cell_type": "code",
      "source": [
        "print(np.round(np.mean(m_iou[5:]), 6)) # without warm-up\n",
        "print(np.round(np.std(m_iou[5:]), 6)) # without warm-up"
      ],
      "metadata": {
        "id": "X6ejTUW_JC90"
      },
      "execution_count": null,
      "outputs": []
    },
    {
      "cell_type": "markdown",
      "source": [
        "#### Save Model to G-Drive"
      ],
      "metadata": {
        "id": "GBnDPJRz9-Ri"
      }
    },
    {
      "cell_type": "code",
      "source": [
        "save_flag = True"
      ],
      "metadata": {
        "id": "BgPg2gVWBwuv"
      },
      "execution_count": null,
      "outputs": []
    },
    {
      "cell_type": "code",
      "source": [
        "# set path to save\n",
        "save_path = data_path + f'models/'\n",
        "save_path"
      ],
      "metadata": {
        "colab": {
          "base_uri": "https://localhost:8080/",
          "height": 35
        },
        "id": "dKqaf_uG735N",
        "outputId": "71fd06f1-8bcc-4bd4-aed9-50458c0903e6"
      },
      "execution_count": null,
      "outputs": [
        {
          "output_type": "execute_result",
          "data": {
            "text/plain": [
              "'/content/drive/MyDrive/Ultrasound_project/train_data_split/models/'"
            ],
            "application/vnd.google.colaboratory.intrinsic+json": {
              "type": "string"
            }
          },
          "metadata": {},
          "execution_count": 34
        }
      ]
    },
    {
      "cell_type": "code",
      "source": [
        "def save_checkpoint(state, save_path, filename):\n",
        "    print(\"=> Saving checkpoint\")\n",
        "    filepath = save_path + filename\n",
        "    torch.save(state, filepath)"
      ],
      "metadata": {
        "id": "KLOn7C5hicTw"
      },
      "execution_count": null,
      "outputs": []
    },
    {
      "cell_type": "code",
      "source": [
        "model_name"
      ],
      "metadata": {
        "colab": {
          "base_uri": "https://localhost:8080/",
          "height": 35
        },
        "id": "1c7bjNlNef9M",
        "outputId": "248f0e59-494b-4f03-e899-3b5d013c8b95"
      },
      "execution_count": null,
      "outputs": [
        {
          "output_type": "execute_result",
          "data": {
            "text/plain": [
              "'unet_mobilenet_v2'"
            ],
            "application/vnd.google.colaboratory.intrinsic+json": {
              "type": "string"
            }
          },
          "metadata": {},
          "execution_count": 36
        }
      ]
    },
    {
      "cell_type": "code",
      "source": [
        "if save_flag:\n",
        "  checkpoint = {\n",
        "      \"state_dict\": model.state_dict(),\n",
        "      \"optimizer\":optimizer.state_dict(),\n",
        "      }\n",
        "  save_checkpoint(checkpoint, save_path, f\"{model_name}_19072023_222m_50per_3.pth.tar\")\n",
        "  print(f\"{save_path}{model_name}_19072023_222m_50per_3.pth.tar\")"
      ],
      "metadata": {
        "colab": {
          "base_uri": "https://localhost:8080/"
        },
        "id": "9CE-X9TDiRwq",
        "outputId": "3d223038-88c4-471a-ad6b-b3872f2c2806"
      },
      "execution_count": null,
      "outputs": [
        {
          "output_type": "stream",
          "name": "stdout",
          "text": [
            "=> Saving checkpoint\n",
            "/content/drive/MyDrive/Ultrasound_project/train_data_split/models/unet_mobilenet_v2_19072023_222m_50per_3.pth.tar\n"
          ]
        }
      ]
    },
    {
      "cell_type": "code",
      "source": [
        "model = None\n",
        "unet_model = None\n",
        "train_loader = None\n",
        "val_loader = None\n",
        "loss_fn = None\n",
        "optimizer = None\n",
        "scaler = None"
      ],
      "metadata": {
        "id": "gvOR4QGD0qjn"
      },
      "execution_count": null,
      "outputs": []
    },
    {
      "cell_type": "code",
      "source": [
        "torch.cuda.empty_cache()"
      ],
      "metadata": {
        "id": "SNfbO4vK1BBR"
      },
      "execution_count": null,
      "outputs": []
    },
    {
      "cell_type": "markdown",
      "source": [
        "## Evaluation on Test Set"
      ],
      "metadata": {
        "id": "tTSXqOGzsTcG"
      }
    },
    {
      "cell_type": "code",
      "source": [
        "# load saved models\n",
        "def load_checkpoint(checkpoint, model):\n",
        "  print(\"=> Loading checkpoint\")\n",
        "  model.load_state_dict(checkpoint[\"state_dict\"])"
      ],
      "metadata": {
        "id": "_7mQgjO59ET1"
      },
      "execution_count": null,
      "outputs": []
    },
    {
      "cell_type": "code",
      "source": [
        "test_transforms = A.Compose(\n",
        "    [\n",
        "        A.Resize(height=IMAGE_HEIGHT, width=IMAGE_WIDTH),\n",
        "        A.Normalize(\n",
        "            mean=[0.0, 0.0, 0.0],\n",
        "            std=[1.0, 1.0, 1.0],\n",
        "            max_pixel_value=255.0,\n",
        "        ),\n",
        "        ToTensorV2(),\n",
        "     ],\n",
        ")"
      ],
      "metadata": {
        "id": "G4p0-aZCi0HW"
      },
      "execution_count": null,
      "outputs": []
    },
    {
      "cell_type": "code",
      "source": [
        "root_path"
      ],
      "metadata": {
        "colab": {
          "base_uri": "https://localhost:8080/",
          "height": 35
        },
        "id": "h0Hxu_T13V-x",
        "outputId": "7032ea83-d078-496c-8a57-9df93fe6c5f6"
      },
      "execution_count": null,
      "outputs": [
        {
          "output_type": "execute_result",
          "data": {
            "text/plain": [
              "'/content/drive/MyDrive/Ultrasound_project/'"
            ],
            "application/vnd.google.colaboratory.intrinsic+json": {
              "type": "string"
            }
          },
          "metadata": {},
          "execution_count": 25
        }
      ]
    },
    {
      "cell_type": "code",
      "source": [
        "save_path = root_path + f'Saved_models/mobilenet_v2/'\n",
        "save_path"
      ],
      "metadata": {
        "colab": {
          "base_uri": "https://localhost:8080/",
          "height": 35
        },
        "id": "Bb3dCRlP3Msj",
        "outputId": "b6a5bfea-4bea-4593-e3dd-e4491f8e9733"
      },
      "execution_count": null,
      "outputs": [
        {
          "output_type": "execute_result",
          "data": {
            "text/plain": [
              "'/content/drive/MyDrive/Ultrasound_project/Saved_models/mobilenet_v2/'"
            ],
            "application/vnd.google.colaboratory.intrinsic+json": {
              "type": "string"
            }
          },
          "metadata": {},
          "execution_count": 26
        }
      ]
    },
    {
      "cell_type": "code",
      "source": [
        "checkpoint_name = save_path + f\"unet_frozen_mobilenet_v2_13072023_model_222m_1.pth.tar\""
      ],
      "metadata": {
        "id": "9byhJHdf3svF"
      },
      "execution_count": null,
      "outputs": []
    },
    {
      "cell_type": "code",
      "source": [
        "#my_Unet_baseline_0712.pth.tar\n",
        "#my_Unet_baseline_0717.pth.tar\n",
        "#my_Unet_baseline_0717_1.pth.tar\n",
        "#my_Unet_baseline_0717_2.pth.tar\n",
        "\n",
        "#unet_frozen_mobilenet_v2_02062023_model_44m_0.pth.tar\n",
        "#unet_frozen_mobilenet_v2_12072023_model_44m_1.pth.tar\n",
        "#unet_frozen_mobilenet_v2_12072023_model_44m_3.pth.tar\n",
        "#unet_frozen_mobilenet_v2_13072023_model_44m_4.pth.tar\n",
        "\n",
        "#unet_frozen_mobilenet_v2_13072023_model_222m_1.pth.tar\n",
        "#unet_frozen_mobilenet_v2_13072023_model_222m_2.pth.tar\n",
        "#unet_frozen_mobilenet_v2_13072023_model_222m_4.pth.tar\n",
        "#unet_frozen_mobilenet_v2_13072023_model_222m_6.pth.tar\n",
        "\n",
        "checkpoint_name"
      ],
      "metadata": {
        "id": "ZRAA5mFTjMOB",
        "colab": {
          "base_uri": "https://localhost:8080/",
          "height": 35
        },
        "outputId": "d46a02f3-7e42-4ffb-c6cc-8e75fef01c4f"
      },
      "execution_count": null,
      "outputs": [
        {
          "output_type": "execute_result",
          "data": {
            "text/plain": [
              "'/content/drive/MyDrive/Ultrasound_project/Saved_models/mobilenet_v2/unet_frozen_mobilenet_v2_13072023_model_222m_1.pth.tar'"
            ],
            "application/vnd.google.colaboratory.intrinsic+json": {
              "type": "string"
            }
          },
          "metadata": {},
          "execution_count": 79
        }
      ]
    },
    {
      "cell_type": "code",
      "source": [
        "LOAD_MODEL = True"
      ],
      "metadata": {
        "id": "ioG1HvvSJRoZ"
      },
      "execution_count": null,
      "outputs": []
    },
    {
      "cell_type": "code",
      "source": [
        "if LOAD_MODEL:\n",
        "  load_checkpoint(torch.load(checkpoint_name), model)"
      ],
      "metadata": {
        "id": "ji-Oa3In9J2K",
        "colab": {
          "base_uri": "https://localhost:8080/"
        },
        "outputId": "98f7bb40-2e78-4131-eb4a-d259f057d91f"
      },
      "execution_count": null,
      "outputs": [
        {
          "output_type": "stream",
          "name": "stdout",
          "text": [
            "=> Loading checkpoint\n"
          ]
        }
      ]
    },
    {
      "cell_type": "code",
      "source": [
        "if torch.cuda.is_available():\n",
        "    model.cuda()"
      ],
      "metadata": {
        "id": "pNfWHWpntCe1"
      },
      "execution_count": null,
      "outputs": []
    },
    {
      "cell_type": "markdown",
      "source": [
        "### Fetal Head"
      ],
      "metadata": {
        "id": "e8hUiA6GFtox"
      }
    },
    {
      "cell_type": "markdown",
      "source": [
        "#### HC18 Test Dataset"
      ],
      "metadata": {
        "id": "vi_ZurgfJGqL"
      }
    },
    {
      "cell_type": "code",
      "source": [
        "VAL_IMG_DIR = root_path + \"HC18_UNet_orig/val_images/\"\n",
        "VAL_MASK_DIR = root_path + \"HC18_UNet_orig/val_masks/\""
      ],
      "metadata": {
        "id": "7TxQJhyYON9D"
      },
      "execution_count": null,
      "outputs": []
    },
    {
      "cell_type": "code",
      "source": [
        "val_ds = HeadDataset(\n",
        "    image_dir=VAL_IMG_DIR,\n",
        "    mask_dir=VAL_MASK_DIR,\n",
        "    transform=val_transforms,\n",
        ")\n",
        "\n",
        "val_loader = DataLoader(\n",
        "    val_ds,\n",
        "    batch_size=BATCH_SIZE,\n",
        "    num_workers=NUM_WORKERS,\n",
        "    pin_memory=PIN_MEMORY,\n",
        "    shuffle=False,\n",
        ")"
      ],
      "metadata": {
        "id": "0mtEBCbeOTo9"
      },
      "execution_count": null,
      "outputs": []
    },
    {
      "cell_type": "code",
      "source": [
        "test_hc18_pix_acc = []\n",
        "test_hc18_dice_scores = []\n",
        "test_hc18_miou = []\n",
        "\n",
        "# check accuracy\n",
        "#for i in range(5):\n",
        "#print(f\"Test round {i}:\")\n",
        "check_accuracy(val_loader,\n",
        "                model,\n",
        "                loss_fn,\n",
        "                test_hc18_pix_acc, test_hc18_dice_scores, test_hc18_miou,\n",
        "                device=DEVICE,\n",
        "                is_train=False)"
      ],
      "metadata": {
        "colab": {
          "base_uri": "https://localhost:8080/"
        },
        "id": "OOU0XFLci0Oj",
        "outputId": "68de5216-f8a2-4a3f-8633-534283446af7"
      },
      "execution_count": null,
      "outputs": [
        {
          "output_type": "stream",
          "name": "stdout",
          "text": [
            "Got 98.15953063964844 with acc 98.1595\n",
            "Dice score: 96.9583\n",
            "mIoU: 94.1054\n",
            "Got validation loss: 0.047137\n"
          ]
        },
        {
          "output_type": "execute_result",
          "data": {
            "text/plain": [
              "([98.15953063964844],\n",
              " [96.95833587646484],\n",
              " [94.10543060302734],\n",
              " [0.047286804765462875,\n",
              "  0.041551414877176285,\n",
              "  0.043017588555812836,\n",
              "  0.05777060613036156,\n",
              "  0.060201264917850494,\n",
              "  0.03728415444493294,\n",
              "  0.047104835510253906,\n",
              "  0.03766707703471184,\n",
              "  0.04433807358145714,\n",
              "  0.05604222044348717,\n",
              "  0.05897848680615425,\n",
              "  0.04822370037436485,\n",
              "  0.04847319796681404,\n",
              "  0.069807268679142,\n",
              "  0.041715580970048904,\n",
              "  0.044195856899023056,\n",
              "  0.04161393642425537,\n",
              "  0.0377417616546154,\n",
              "  0.036596231162548065,\n",
              "  0.04312647506594658])"
            ]
          },
          "metadata": {},
          "execution_count": 34
        }
      ]
    },
    {
      "cell_type": "code",
      "source": [
        "print(f\"Pixel Accuracy: {test_hc18_pix_acc}\")\n",
        "print(f\"Dice Score: {test_hc18_dice_scores}\")\n",
        "print(f\"Mean IoU: {test_hc18_miou}\")"
      ],
      "metadata": {
        "colab": {
          "base_uri": "https://localhost:8080/"
        },
        "id": "czIdNezWLQ94",
        "outputId": "66f570a5-9034-4ec6-f199-043ca041159c"
      },
      "execution_count": null,
      "outputs": [
        {
          "output_type": "stream",
          "name": "stdout",
          "text": [
            "Pixel Accuracy: [98.15953063964844]\n",
            "Dice Score: [96.95833587646484]\n",
            "Mean IoU: [94.10543060302734]\n"
          ]
        }
      ]
    },
    {
      "cell_type": "code",
      "source": [
        "unet_model = None\n",
        "model = None\n",
        "torch.cuda.empty_cache()"
      ],
      "metadata": {
        "id": "v-x29I_BEifH"
      },
      "execution_count": null,
      "outputs": []
    },
    {
      "cell_type": "markdown",
      "source": [
        "**NOTE: If the above code block shows AttributeError like the below one, please initialize the model and load weights from saved checkpoint again.**\n",
        "\n",
        "```\n",
        "/usr/local/lib/python3.9/dist-packages/torchsummary/torchsummary.py in hook(module, input, output)\n",
        "     17             m_key = \"%s-%i\" % (class_name, module_idx + 1)\n",
        "     18             summary[m_key] = OrderedDict()\n",
        "---> 19             summary[m_key][\"input_shape\"] = list(input[0].size())\n",
        "     20             summary[m_key][\"input_shape\"][0] = batch_size\n",
        "     21             if isinstance(output, (list, tuple)):\n",
        "\n",
        "AttributeError: 'list' object has no attribute 'size'\n",
        "```"
      ],
      "metadata": {
        "id": "lr15ue4bnwOi"
      }
    },
    {
      "cell_type": "markdown",
      "source": [
        "#### Spanish / African Test Dataset"
      ],
      "metadata": {
        "id": "S5hfzBSRJKuX"
      }
    },
    {
      "cell_type": "code",
      "source": [
        "root_path"
      ],
      "metadata": {
        "colab": {
          "base_uri": "https://localhost:8080/",
          "height": 35
        },
        "id": "ZjFR7XJczk_W",
        "outputId": "662b97dd-0462-4f39-d339-77d6a8a752d5"
      },
      "execution_count": null,
      "outputs": [
        {
          "output_type": "execute_result",
          "data": {
            "text/plain": [
              "'/content/drive/MyDrive/Ultrasound_project/'"
            ],
            "application/vnd.google.colaboratory.intrinsic+json": {
              "type": "string"
            }
          },
          "metadata": {},
          "execution_count": 65
        }
      ]
    },
    {
      "cell_type": "code",
      "source": [
        "# Spanish/spanishcerebellum_test/images/\n",
        "# Spanish/spanishthalamic_test/images/\n",
        "# Spanish/spanishventricular_test/images/\n",
        "\n",
        "# African/Algeria/images/\n",
        "# African/Malawi/images/\n",
        "# African/Egypt/images/\n",
        "\n",
        "TEST_FPZ_IMG_DIR = root_path + \"African/Egypt/images/\"\n",
        "TEST_FPZ_MASK_DIR = root_path + \"African/Egypt/masks/\""
      ],
      "metadata": {
        "id": "dIRm6OwZK0BU"
      },
      "execution_count": null,
      "outputs": []
    },
    {
      "cell_type": "code",
      "source": [
        "test_fpz_ds = HeadDataset(\n",
        "    image_dir=TEST_FPZ_IMG_DIR,\n",
        "    mask_dir=TEST_FPZ_MASK_DIR,\n",
        "    transform=test_transforms,\n",
        ")\n",
        "\n",
        "test_fpz_loader = DataLoader(\n",
        "    test_fpz_ds,\n",
        "    batch_size=BATCH_SIZE,\n",
        "    num_workers=NUM_WORKERS,\n",
        "    pin_memory=PIN_MEMORY,\n",
        "    shuffle=False,\n",
        ")"
      ],
      "metadata": {
        "id": "mU_Fch-AK0oD"
      },
      "execution_count": null,
      "outputs": []
    },
    {
      "cell_type": "code",
      "source": [
        "print(TEST_FPZ_IMG_DIR)\n",
        "print(len(test_fpz_ds))"
      ],
      "metadata": {
        "colab": {
          "base_uri": "https://localhost:8080/"
        },
        "id": "-hHWGcBy0V3U",
        "outputId": "c1dec1ef-1660-4a73-ccb9-97d675c3832f"
      },
      "execution_count": null,
      "outputs": [
        {
          "output_type": "stream",
          "name": "stdout",
          "text": [
            "/content/drive/MyDrive/Ultrasound_project/African/Egypt/images/\n",
            "25\n"
          ]
        }
      ]
    },
    {
      "cell_type": "code",
      "source": [
        "test_fpz_pix_acc = []\n",
        "test_fpz_dice_scores = []\n",
        "test_fpz_miou = []\n",
        "\n",
        "# check accuracy\n",
        "check_accuracy(test_fpz_loader,\n",
        "               model,\n",
        "               loss_fn,\n",
        "               test_fpz_pix_acc, test_fpz_dice_scores, test_fpz_miou,\n",
        "               device=DEVICE,\n",
        "               is_train=False)"
      ],
      "metadata": {
        "id": "pqwrSmn37h1H",
        "colab": {
          "base_uri": "https://localhost:8080/"
        },
        "outputId": "175db4d0-84c2-4265-c109-1057eb7344fc"
      },
      "execution_count": null,
      "outputs": [
        {
          "output_type": "stream",
          "name": "stdout",
          "text": [
            "Got 91.92520141601562 with acc 91.9252\n",
            "Dice score: 88.5219\n",
            "mIoU: 79.5302\n",
            "Got validation loss: 0.282363\n"
          ]
        },
        {
          "output_type": "execute_result",
          "data": {
            "text/plain": [
              "([91.92520141601562],\n",
              " [88.52193450927734],\n",
              " [79.53018188476562],\n",
              " [0.24770715832710266, 0.29536938667297363, 0.30401158332824707])"
            ]
          },
          "metadata": {},
          "execution_count": 101
        }
      ]
    },
    {
      "cell_type": "markdown",
      "source": [
        "## Result visualization"
      ],
      "metadata": {
        "id": "q_iFdfRWpPkf"
      }
    },
    {
      "cell_type": "code",
      "source": [
        "test_dataloader = test_fpz_loader\n",
        "#test_dataloader = test_hc18_loader\n",
        "#test_dataloader = val_loader\n",
        "\n",
        "# test_fpz_ds, val_ds\n",
        "test_ds = test_fpz_ds"
      ],
      "metadata": {
        "id": "7m1cVz1TpSIw"
      },
      "execution_count": null,
      "outputs": []
    },
    {
      "cell_type": "code",
      "source": [
        "print(len(test_dataloader))"
      ],
      "metadata": {
        "colab": {
          "base_uri": "https://localhost:8080/"
        },
        "id": "-9xwUx6HOxI4",
        "outputId": "9da68993-46a5-43e4-9e3a-282480926af7"
      },
      "execution_count": null,
      "outputs": [
        {
          "output_type": "stream",
          "name": "stdout",
          "text": [
            "3\n"
          ]
        }
      ]
    },
    {
      "cell_type": "code",
      "source": [
        "rand_idx = [2,5,8,10,12,14,16,18]"
      ],
      "metadata": {
        "id": "YRGDCbpuK-wr"
      },
      "execution_count": null,
      "outputs": []
    },
    {
      "cell_type": "code",
      "source": [
        "#rand_idx = random.sample(range(30), k=5) # select your indices here as a list\n",
        "#subset = torch.utils.data.Subset(test_fpz_ds, rand_idx)\n",
        "subset = torch.utils.data.Subset(test_ds, rand_idx)\n",
        "testloader_subset = DataLoader(subset, batch_size=1, num_workers=0, shuffle=False)"
      ],
      "metadata": {
        "id": "ZjtYndlp3pVT"
      },
      "execution_count": null,
      "outputs": []
    },
    {
      "cell_type": "code",
      "source": [
        "with torch.no_grad():\n",
        "  for x, y in testloader_subset:\n",
        "    image = x.to(DEVICE)\n",
        "    gt_mask = y.to(DEVICE).unsqueeze(1)\n",
        "    preds = model(image)\n",
        "    preds = preds[0]\n",
        "    preds = (preds > 0.5).float()\n",
        "\n",
        "    dice_score = (2 * (preds * gt_mask).sum()) / (\n",
        "        (preds + gt_mask).sum() + 1e-8\n",
        "        )\n",
        "\n",
        "    print(f\"Dice Score is {dice_score*100:.3f}\")\n",
        "\n",
        "    plt.figure(figsize=(8, 8))\n",
        "\n",
        "    plt.subplot(1, 3, 1)\n",
        "    x = x.flatten(0, 1)\n",
        "    plt.imshow(x.permute(1, 2, 0))\n",
        "    plt.title(\"Image\")\n",
        "    plt.axis(\"off\")\n",
        "\n",
        "    plt.subplot(1, 3, 2)\n",
        "    plt.imshow(1-y.numpy().squeeze(),cmap='Greys',interpolation='nearest') # just squeeze classes dim, because we have only one class\n",
        "    plt.title(\"Ground truth\")\n",
        "    plt.axis(\"off\")\n",
        "\n",
        "    plt.subplot(1, 3, 3)\n",
        "    plt.imshow(1-preds.cpu().data.numpy().squeeze(),cmap='Greys',interpolation='nearest') # just squeeze classes dim, because we have only one class\n",
        "    plt.title(\"Prediction\")\n",
        "    plt.axis(\"off\")\n",
        "\n",
        "    plt.show()"
      ],
      "metadata": {
        "id": "gJU9C2AIpMhh",
        "colab": {
          "base_uri": "https://localhost:8080/",
          "height": 1000
        },
        "outputId": "0b900da0-86d0-411c-b47e-1217e9172e04"
      },
      "execution_count": null,
      "outputs": [
        {
          "output_type": "stream",
          "name": "stdout",
          "text": [
            "Dice Score is 95.122\n"
          ]
        },
        {
          "output_type": "display_data",
          "data": {
            "text/plain": [
              "<Figure size 800x800 with 3 Axes>"
            ],
            "image/png": "[encoded data removed]"
          },
          "metadata": {}
        },
        {
          "output_type": "stream",
          "name": "stdout",
          "text": [
            "Dice Score is 96.946\n"
          ]
        },
        {
          "output_type": "display_data",
          "data": {
            "text/plain": [
              "<Figure size 800x800 with 3 Axes>"
            ],
            "image/png": "[encoded data removed]"
          },
          "metadata": {}
        },
        {
          "output_type": "stream",
          "name": "stdout",
          "text": [
            "Dice Score is 96.390\n"
          ]
        },
        {
          "output_type": "display_data",
          "data": {
            "text/plain": [
              "<Figure size 800x800 with 3 Axes>"
            ],
            "image/png": "[encoded data removed]"
          },
          "metadata": {}
        },
        {
          "output_type": "stream",
          "name": "stdout",
          "text": [
            "Dice Score is 96.866\n"
          ]
        },
        {
          "output_type": "display_data",
          "data": {
            "text/plain": [
              "<Figure size 800x800 with 3 Axes>"
            ],
            "image/png": "[encoded data removed]"
          },
          "metadata": {}
        },
        {
          "output_type": "stream",
          "name": "stdout",
          "text": [
            "Dice Score is 93.783\n"
          ]
        },
        {
          "output_type": "display_data",
          "data": {
            "text/plain": [
              "<Figure size 800x800 with 3 Axes>"
            ],
            "image/png": "[encoded data removed]"
          },
          "metadata": {}
        },
        {
          "output_type": "stream",
          "name": "stdout",
          "text": [
            "Dice Score is 95.134\n"
          ]
        },
        {
          "output_type": "display_data",
          "data": {
            "text/plain": [
              "<Figure size 800x800 with 3 Axes>"
            ],
            "image/png": "[encoded data removed]"
          },
          "metadata": {}
        },
        {
          "output_type": "stream",
          "name": "stdout",
          "text": [
            "Dice Score is 78.789\n"
          ]
        },
        {
          "output_type": "display_data",
          "data": {
            "text/plain": [
              "<Figure size 800x800 with 3 Axes>"
            ],
            "image/png": "[encoded data removed]"
          },
          "metadata": {}
        },
        {
          "output_type": "stream",
          "name": "stdout",
          "text": [
            "Dice Score is 97.004\n"
          ]
        },
        {
          "output_type": "display_data",
          "data": {
            "text/plain": [
              "<Figure size 800x800 with 3 Axes>"
            ],
            "image/png": "[encoded data removed]"
          },
          "metadata": {}
        }
      ]
    }
  ]
}
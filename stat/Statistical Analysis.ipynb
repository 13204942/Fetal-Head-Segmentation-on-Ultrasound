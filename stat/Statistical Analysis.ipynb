{
 "cells": [
  {
   "cell_type": "markdown",
   "id": "3f21e7a1",
   "metadata": {},
   "source": [
    "# Statistical Analysis"
   ]
  },
  {
   "cell_type": "markdown",
   "id": "3acc4d58",
   "metadata": {},
   "source": [
    "Analyse our transfer learning (TL) results with Python. The objective is to evaluate different TL methods' performance and to find out the statistical conclusion based on these numeric results."
   ]
  },
  {
   "cell_type": "markdown",
   "id": "c97b37ba",
   "metadata": {},
   "source": [
    "## Load Required Libraries"
   ]
  },
  {
   "cell_type": "code",
   "execution_count": 56,
   "id": "a829eb48",
   "metadata": {},
   "outputs": [],
   "source": [
    "import os\n",
    "import numpy as np\n",
    "import matplotlib.pyplot as plt\n",
    "import pandas as pd\n",
    "import seaborn as sns\n",
    "from scipy import stats"
   ]
  },
  {
   "cell_type": "markdown",
   "id": "f4f02c1c",
   "metadata": {},
   "source": [
    "## Set Environment"
   ]
  },
  {
   "cell_type": "code",
   "execution_count": 4,
   "id": "2dc1c62f",
   "metadata": {},
   "outputs": [],
   "source": [
    "root_path = '/Users/fangyijiewang/Desktop/PhD/Autumn_Year_1/'"
   ]
  },
  {
   "cell_type": "code",
   "execution_count": 5,
   "id": "f6723b70",
   "metadata": {},
   "outputs": [],
   "source": [
    "folder = 'numeric_data/'"
   ]
  },
  {
   "cell_type": "markdown",
   "id": "b5953073",
   "metadata": {},
   "source": [
    "## Load Data"
   ]
  },
  {
   "cell_type": "code",
   "execution_count": 57,
   "id": "a80b74cf",
   "metadata": {},
   "outputs": [],
   "source": [
    "mobilenet_test_file = 'test_diff_per_data.csv'"
   ]
  },
  {
   "cell_type": "code",
   "execution_count": 58,
   "id": "cfc70f0b",
   "metadata": {},
   "outputs": [
    {
     "data": {
      "text/html": [
       "<div>\n",
       "<style scoped>\n",
       "    .dataframe tbody tr th:only-of-type {\n",
       "        vertical-align: middle;\n",
       "    }\n",
       "\n",
       "    .dataframe tbody tr th {\n",
       "        vertical-align: top;\n",
       "    }\n",
       "\n",
       "    .dataframe thead th {\n",
       "        text-align: right;\n",
       "    }\n",
       "</style>\n",
       "<table border=\"1\" class=\"dataframe\">\n",
       "  <thead>\n",
       "    <tr style=\"text-align: right;\">\n",
       "      <th></th>\n",
       "      <th>U-Net Backbone</th>\n",
       "      <th>Times</th>\n",
       "      <th>Train Size</th>\n",
       "      <th>Pixel Accuracy</th>\n",
       "      <th>Dice Score</th>\n",
       "      <th>Mean IoU</th>\n",
       "    </tr>\n",
       "  </thead>\n",
       "  <tbody>\n",
       "    <tr>\n",
       "      <th>0</th>\n",
       "      <td>None_31MM</td>\n",
       "      <td>1</td>\n",
       "      <td>10per</td>\n",
       "      <td>93.950</td>\n",
       "      <td>88.901651</td>\n",
       "      <td>80.166435</td>\n",
       "    </tr>\n",
       "    <tr>\n",
       "      <th>1</th>\n",
       "      <td>None_31MM</td>\n",
       "      <td>2</td>\n",
       "      <td>10per</td>\n",
       "      <td>92.609</td>\n",
       "      <td>87.700200</td>\n",
       "      <td>78.471600</td>\n",
       "    </tr>\n",
       "    <tr>\n",
       "      <th>2</th>\n",
       "      <td>None_31MM</td>\n",
       "      <td>3</td>\n",
       "      <td>10per</td>\n",
       "      <td>91.465</td>\n",
       "      <td>86.315500</td>\n",
       "      <td>76.198900</td>\n",
       "    </tr>\n",
       "    <tr>\n",
       "      <th>3</th>\n",
       "      <td>None_31MM</td>\n",
       "      <td>4</td>\n",
       "      <td>10per</td>\n",
       "      <td>92.588</td>\n",
       "      <td>88.492100</td>\n",
       "      <td>79.530100</td>\n",
       "    </tr>\n",
       "    <tr>\n",
       "      <th>4</th>\n",
       "      <td>None_31MM</td>\n",
       "      <td>5</td>\n",
       "      <td>30per</td>\n",
       "      <td>94.480</td>\n",
       "      <td>91.256905</td>\n",
       "      <td>83.995742</td>\n",
       "    </tr>\n",
       "  </tbody>\n",
       "</table>\n",
       "</div>"
      ],
      "text/plain": [
       "  U-Net Backbone  Times Train Size  Pixel Accuracy  Dice Score   Mean IoU\n",
       "0      None_31MM      1      10per          93.950   88.901651  80.166435\n",
       "1      None_31MM      2      10per          92.609   87.700200  78.471600\n",
       "2      None_31MM      3      10per          91.465   86.315500  76.198900\n",
       "3      None_31MM      4      10per          92.588   88.492100  79.530100\n",
       "4      None_31MM      5      30per          94.480   91.256905  83.995742"
      ]
     },
     "execution_count": 58,
     "metadata": {},
     "output_type": "execute_result"
    }
   ],
   "source": [
    "mobilenet_test_df = pd.read_csv(root_path+folder+mobilenet_test_file)\n",
    "mobilenet_test_df.head()"
   ]
  },
  {
   "cell_type": "code",
   "execution_count": 59,
   "id": "5f44b7c9",
   "metadata": {},
   "outputs": [
    {
     "data": {
      "text/plain": [
       "(48, 6)"
      ]
     },
     "execution_count": 59,
     "metadata": {},
     "output_type": "execute_result"
    }
   ],
   "source": [
    "mobilenet_test_df.shape"
   ]
  },
  {
   "cell_type": "code",
   "execution_count": 60,
   "id": "02c9d8f2",
   "metadata": {},
   "outputs": [
    {
     "data": {
      "text/plain": [
       "U-Net Backbone     object\n",
       "Times               int64\n",
       "Train Size         object\n",
       "Pixel Accuracy    float64\n",
       "Dice Score        float64\n",
       "Mean IoU          float64\n",
       "dtype: object"
      ]
     },
     "execution_count": 60,
     "metadata": {},
     "output_type": "execute_result"
    }
   ],
   "source": [
    "mobilenet_test_df.dtypes"
   ]
  },
  {
   "cell_type": "markdown",
   "id": "fa88d695",
   "metadata": {},
   "source": [
    "## Statistical Analysis"
   ]
  },
  {
   "cell_type": "code",
   "execution_count": 77,
   "id": "83b00fac",
   "metadata": {},
   "outputs": [
    {
     "data": {
      "text/html": [
       "<div>\n",
       "<style scoped>\n",
       "    .dataframe tbody tr th:only-of-type {\n",
       "        vertical-align: middle;\n",
       "    }\n",
       "\n",
       "    .dataframe tbody tr th {\n",
       "        vertical-align: top;\n",
       "    }\n",
       "\n",
       "    .dataframe thead th {\n",
       "        text-align: right;\n",
       "    }\n",
       "</style>\n",
       "<table border=\"1\" class=\"dataframe\">\n",
       "  <thead>\n",
       "    <tr style=\"text-align: right;\">\n",
       "      <th></th>\n",
       "      <th>U-Net Backbone</th>\n",
       "      <th>Times</th>\n",
       "      <th>Dice Score</th>\n",
       "    </tr>\n",
       "  </thead>\n",
       "  <tbody>\n",
       "    <tr>\n",
       "      <th>0</th>\n",
       "      <td>None_31MM</td>\n",
       "      <td>1</td>\n",
       "      <td>88.901651</td>\n",
       "    </tr>\n",
       "    <tr>\n",
       "      <th>1</th>\n",
       "      <td>None_31MM</td>\n",
       "      <td>2</td>\n",
       "      <td>87.700200</td>\n",
       "    </tr>\n",
       "    <tr>\n",
       "      <th>2</th>\n",
       "      <td>None_31MM</td>\n",
       "      <td>3</td>\n",
       "      <td>86.315500</td>\n",
       "    </tr>\n",
       "    <tr>\n",
       "      <th>3</th>\n",
       "      <td>None_31MM</td>\n",
       "      <td>4</td>\n",
       "      <td>88.492100</td>\n",
       "    </tr>\n",
       "    <tr>\n",
       "      <th>4</th>\n",
       "      <td>None_31MM</td>\n",
       "      <td>5</td>\n",
       "      <td>91.256905</td>\n",
       "    </tr>\n",
       "  </tbody>\n",
       "</table>\n",
       "</div>"
      ],
      "text/plain": [
       "  U-Net Backbone  Times  Dice Score\n",
       "0      None_31MM      1   88.901651\n",
       "1      None_31MM      2   87.700200\n",
       "2      None_31MM      3   86.315500\n",
       "3      None_31MM      4   88.492100\n",
       "4      None_31MM      5   91.256905"
      ]
     },
     "execution_count": 77,
     "metadata": {},
     "output_type": "execute_result"
    }
   ],
   "source": [
    "test_dice_df = mobilenet_test_df.iloc[:,[0,1,4]]\n",
    "test_dice_df.head()"
   ]
  },
  {
   "cell_type": "code",
   "execution_count": 71,
   "id": "af6a4a52",
   "metadata": {},
   "outputs": [
    {
     "data": {
      "text/plain": [
       "(48, 3)"
      ]
     },
     "execution_count": 71,
     "metadata": {},
     "output_type": "execute_result"
    }
   ],
   "source": [
    "test_dice_df.shape"
   ]
  },
  {
   "cell_type": "code",
   "execution_count": 82,
   "id": "c7b72377",
   "metadata": {},
   "outputs": [
    {
     "data": {
      "text/html": [
       "<div>\n",
       "<style scoped>\n",
       "    .dataframe tbody tr th:only-of-type {\n",
       "        vertical-align: middle;\n",
       "    }\n",
       "\n",
       "    .dataframe tbody tr th {\n",
       "        vertical-align: top;\n",
       "    }\n",
       "\n",
       "    .dataframe thead th {\n",
       "        text-align: right;\n",
       "    }\n",
       "</style>\n",
       "<table border=\"1\" class=\"dataframe\">\n",
       "  <thead>\n",
       "    <tr style=\"text-align: right;\">\n",
       "      <th>Times</th>\n",
       "      <th>1</th>\n",
       "      <th>2</th>\n",
       "      <th>3</th>\n",
       "      <th>4</th>\n",
       "      <th>5</th>\n",
       "      <th>6</th>\n",
       "      <th>7</th>\n",
       "      <th>8</th>\n",
       "      <th>9</th>\n",
       "      <th>10</th>\n",
       "      <th>11</th>\n",
       "      <th>12</th>\n",
       "      <th>13</th>\n",
       "      <th>14</th>\n",
       "      <th>15</th>\n",
       "      <th>16</th>\n",
       "    </tr>\n",
       "    <tr>\n",
       "      <th>U-Net Backbone</th>\n",
       "      <th></th>\n",
       "      <th></th>\n",
       "      <th></th>\n",
       "      <th></th>\n",
       "      <th></th>\n",
       "      <th></th>\n",
       "      <th></th>\n",
       "      <th></th>\n",
       "      <th></th>\n",
       "      <th></th>\n",
       "      <th></th>\n",
       "      <th></th>\n",
       "      <th></th>\n",
       "      <th></th>\n",
       "      <th></th>\n",
       "      <th></th>\n",
       "    </tr>\n",
       "  </thead>\n",
       "  <tbody>\n",
       "    <tr>\n",
       "      <th>MobileNet_2_22MM</th>\n",
       "      <td>69.912500</td>\n",
       "      <td>72.085600</td>\n",
       "      <td>81.2733</td>\n",
       "      <td>82.397000</td>\n",
       "      <td>73.017000</td>\n",
       "      <td>74.2545</td>\n",
       "      <td>84.1975</td>\n",
       "      <td>88.2863</td>\n",
       "      <td>95.421000</td>\n",
       "      <td>95.238700</td>\n",
       "      <td>89.8907</td>\n",
       "      <td>95.1214</td>\n",
       "      <td>96.8572</td>\n",
       "      <td>96.0443</td>\n",
       "      <td>96.0570</td>\n",
       "      <td>95.2437</td>\n",
       "    </tr>\n",
       "    <tr>\n",
       "      <th>MobileNet_4_4MM</th>\n",
       "      <td>92.190160</td>\n",
       "      <td>92.789192</td>\n",
       "      <td>90.7076</td>\n",
       "      <td>92.319572</td>\n",
       "      <td>94.020970</td>\n",
       "      <td>93.5553</td>\n",
       "      <td>94.6654</td>\n",
       "      <td>94.9525</td>\n",
       "      <td>95.661150</td>\n",
       "      <td>95.103027</td>\n",
       "      <td>95.0830</td>\n",
       "      <td>94.7703</td>\n",
       "      <td>96.1313</td>\n",
       "      <td>96.9583</td>\n",
       "      <td>96.1608</td>\n",
       "      <td>96.1079</td>\n",
       "    </tr>\n",
       "    <tr>\n",
       "      <th>None_31MM</th>\n",
       "      <td>88.901651</td>\n",
       "      <td>87.700200</td>\n",
       "      <td>86.3155</td>\n",
       "      <td>88.492100</td>\n",
       "      <td>91.256905</td>\n",
       "      <td>93.8231</td>\n",
       "      <td>93.3811</td>\n",
       "      <td>93.1879</td>\n",
       "      <td>94.747514</td>\n",
       "      <td>94.608000</td>\n",
       "      <td>94.2877</td>\n",
       "      <td>94.9949</td>\n",
       "      <td>94.7475</td>\n",
       "      <td>95.9235</td>\n",
       "      <td>96.1550</td>\n",
       "      <td>95.4225</td>\n",
       "    </tr>\n",
       "  </tbody>\n",
       "</table>\n",
       "</div>"
      ],
      "text/plain": [
       "Times                    1          2        3          4          5   \\\n",
       "U-Net Backbone                                                          \n",
       "MobileNet_2_22MM  69.912500  72.085600  81.2733  82.397000  73.017000   \n",
       "MobileNet_4_4MM   92.190160  92.789192  90.7076  92.319572  94.020970   \n",
       "None_31MM         88.901651  87.700200  86.3155  88.492100  91.256905   \n",
       "\n",
       "Times                  6        7        8          9          10       11  \\\n",
       "U-Net Backbone                                                               \n",
       "MobileNet_2_22MM  74.2545  84.1975  88.2863  95.421000  95.238700  89.8907   \n",
       "MobileNet_4_4MM   93.5553  94.6654  94.9525  95.661150  95.103027  95.0830   \n",
       "None_31MM         93.8231  93.3811  93.1879  94.747514  94.608000  94.2877   \n",
       "\n",
       "Times                  12       13       14       15       16  \n",
       "U-Net Backbone                                                 \n",
       "MobileNet_2_22MM  95.1214  96.8572  96.0443  96.0570  95.2437  \n",
       "MobileNet_4_4MM   94.7703  96.1313  96.9583  96.1608  96.1079  \n",
       "None_31MM         94.9949  94.7475  95.9235  96.1550  95.4225  "
      ]
     },
     "execution_count": 82,
     "metadata": {},
     "output_type": "execute_result"
    }
   ],
   "source": [
    "stat_table = pd.pivot_table(test_dice_df, \n",
    "                       values='Dice Score',\n",
    "                       index=['U-Net Backbone'],\n",
    "                       columns=['Times'],\n",
    "                       aggfunc=np.average)\n",
    "stat_table"
   ]
  },
  {
   "cell_type": "code",
   "execution_count": 154,
   "id": "4f0d24a1",
   "metadata": {},
   "outputs": [
    {
     "data": {
      "image/png": "[encoded data removed]",
      "text/plain": [
       "<Figure size 432x288 with 2 Axes>"
      ]
     },
     "metadata": {},
     "output_type": "display_data"
    }
   ],
   "source": [
    "sns.heatmap(stat_table.corr(), cmap=None, annot=None)\n",
    "plt.show()"
   ]
  },
  {
   "cell_type": "code",
   "execution_count": 148,
   "id": "351e376f",
   "metadata": {},
   "outputs": [],
   "source": [
    "t1 = stat_table[0:1].squeeze().tolist()\n",
    "t2 = stat_table[1:2].squeeze().tolist()"
   ]
  },
  {
   "cell_type": "code",
   "execution_count": 149,
   "id": "80c9ddce",
   "metadata": {},
   "outputs": [
    {
     "name": "stdout",
     "output_type": "stream",
     "text": [
      "MobileNet_2_22MM : MobileNet_4_4MM\n"
     ]
    },
    {
     "data": {
      "text/plain": [
       "Ttest_indResult(statistic=-3.1261812198854626, pvalue=0.003914103861465482)"
      ]
     },
     "execution_count": 149,
     "metadata": {},
     "output_type": "execute_result"
    }
   ],
   "source": [
    "print(f'{stat_table[0:1].index[0]} : {stat_table[1:2].index[0]}')\n",
    "stats.ttest_ind(t1, t2)"
   ]
  },
  {
   "cell_type": "code",
   "execution_count": 150,
   "id": "dfce862a",
   "metadata": {},
   "outputs": [],
   "source": [
    "t1 = stat_table[0:1].squeeze().tolist()\n",
    "t2 = stat_table[2:3].squeeze().tolist()"
   ]
  },
  {
   "cell_type": "code",
   "execution_count": 151,
   "id": "ccbc3e18",
   "metadata": {},
   "outputs": [
    {
     "name": "stdout",
     "output_type": "stream",
     "text": [
      "MobileNet_2_22MM : None_31MM\n"
     ]
    },
    {
     "data": {
      "text/plain": [
       "Ttest_indResult(statistic=-2.368275336434823, pvalue=0.024511751550778654)"
      ]
     },
     "execution_count": 151,
     "metadata": {},
     "output_type": "execute_result"
    }
   ],
   "source": [
    "print(f'{stat_table[0:1].index[0]} : {stat_table[2:3].index[0]}')\n",
    "stats.ttest_ind(t1, t2)"
   ]
  },
  {
   "cell_type": "code",
   "execution_count": 152,
   "id": "89bf46cf",
   "metadata": {},
   "outputs": [],
   "source": [
    "t1 = stat_table[1:2].squeeze().tolist()\n",
    "t2 = stat_table[2:3].squeeze().tolist()"
   ]
  },
  {
   "cell_type": "code",
   "execution_count": 153,
   "id": "4b9cec22",
   "metadata": {},
   "outputs": [
    {
     "name": "stdout",
     "output_type": "stream",
     "text": [
      "MobileNet_4_4MM : None_31MM\n"
     ]
    },
    {
     "data": {
      "text/plain": [
       "Ttest_indResult(statistic=1.8817014145384559, pvalue=0.06961117900042713)"
      ]
     },
     "execution_count": 153,
     "metadata": {},
     "output_type": "execute_result"
    }
   ],
   "source": [
    "print(f'{stat_table[1:2].index[0]} : {stat_table[2:3].index[0]}')\n",
    "stats.ttest_ind(t1, t2)"
   ]
  },
  {
   "cell_type": "code",
   "execution_count": null,
   "id": "79c8c624",
   "metadata": {},
   "outputs": [],
   "source": []
  },
  {
   "cell_type": "markdown",
   "id": "f06bc353",
   "metadata": {},
   "source": [
    "## Results Visualization"
   ]
  },
  {
   "cell_type": "code",
   "execution_count": 74,
   "id": "8d8eba46",
   "metadata": {},
   "outputs": [
    {
     "data": {
      "text/html": [
       "<div>\n",
       "<style scoped>\n",
       "    .dataframe tbody tr th:only-of-type {\n",
       "        vertical-align: middle;\n",
       "    }\n",
       "\n",
       "    .dataframe tbody tr th {\n",
       "        vertical-align: top;\n",
       "    }\n",
       "\n",
       "    .dataframe thead th {\n",
       "        text-align: right;\n",
       "    }\n",
       "</style>\n",
       "<table border=\"1\" class=\"dataframe\">\n",
       "  <thead>\n",
       "    <tr style=\"text-align: right;\">\n",
       "      <th></th>\n",
       "      <th>U-Net Backbone</th>\n",
       "      <th>Times</th>\n",
       "      <th>Train Size</th>\n",
       "      <th>Pixel Accuracy</th>\n",
       "    </tr>\n",
       "  </thead>\n",
       "  <tbody>\n",
       "    <tr>\n",
       "      <th>0</th>\n",
       "      <td>None_31MM</td>\n",
       "      <td>1</td>\n",
       "      <td>10per</td>\n",
       "      <td>93.950</td>\n",
       "    </tr>\n",
       "    <tr>\n",
       "      <th>1</th>\n",
       "      <td>None_31MM</td>\n",
       "      <td>2</td>\n",
       "      <td>10per</td>\n",
       "      <td>92.609</td>\n",
       "    </tr>\n",
       "    <tr>\n",
       "      <th>2</th>\n",
       "      <td>None_31MM</td>\n",
       "      <td>3</td>\n",
       "      <td>10per</td>\n",
       "      <td>91.465</td>\n",
       "    </tr>\n",
       "    <tr>\n",
       "      <th>3</th>\n",
       "      <td>None_31MM</td>\n",
       "      <td>4</td>\n",
       "      <td>10per</td>\n",
       "      <td>92.588</td>\n",
       "    </tr>\n",
       "    <tr>\n",
       "      <th>4</th>\n",
       "      <td>None_31MM</td>\n",
       "      <td>5</td>\n",
       "      <td>30per</td>\n",
       "      <td>94.480</td>\n",
       "    </tr>\n",
       "  </tbody>\n",
       "</table>\n",
       "</div>"
      ],
      "text/plain": [
       "  U-Net Backbone  Times Train Size  Pixel Accuracy\n",
       "0      None_31MM      1      10per          93.950\n",
       "1      None_31MM      2      10per          92.609\n",
       "2      None_31MM      3      10per          91.465\n",
       "3      None_31MM      4      10per          92.588\n",
       "4      None_31MM      5      30per          94.480"
      ]
     },
     "execution_count": 74,
     "metadata": {},
     "output_type": "execute_result"
    }
   ],
   "source": [
    "mobilenet_test_df.iloc[:,0:4].head()"
   ]
  },
  {
   "cell_type": "code",
   "execution_count": 75,
   "id": "2dfa6fed",
   "metadata": {},
   "outputs": [
    {
     "data": {
      "text/plain": [
       "Index(['U-Net Backbone', 'Times', 'Train Size', 'Pixel Accuracy', 'Dice Score',\n",
       "       'Mean IoU'],\n",
       "      dtype='object')"
      ]
     },
     "execution_count": 75,
     "metadata": {},
     "output_type": "execute_result"
    }
   ],
   "source": [
    "mobilenet_test_df.columns"
   ]
  },
  {
   "cell_type": "code",
   "execution_count": 12,
   "id": "25b707b4",
   "metadata": {},
   "outputs": [],
   "source": [
    "colors = [\"#807fff\", \"#fd7f82\", \"#84a97e\"]"
   ]
  },
  {
   "cell_type": "code",
   "execution_count": 157,
   "id": "b622f982",
   "metadata": {},
   "outputs": [
    {
     "data": {
      "image/png": "[encoded data removed]",
      "text/plain": [
       "<Figure size 504x360 with 1 Axes>"
      ]
     },
     "metadata": {},
     "output_type": "display_data"
    }
   ],
   "source": [
    "plt.figure(figsize=(7,5))\n",
    "sns.set(font_scale=1.2)\n",
    "sns.set_style('whitegrid')\n",
    "\n",
    "g = sns.boxplot(data=mobilenet_test_df,\n",
    "                x='Train Size', \n",
    "                y='Pixel Accuracy', \n",
    "                hue='U-Net Backbone', \n",
    "                width=0.6,\n",
    "                palette='Set2'\n",
    "               )\n",
    "\n",
    "plt.legend(bbox_to_anchor=(1,1), loc=2, borderaxespad=0.)\n",
    "plt.title('Pixel Accuracy Comparison')\n",
    "plt.xticks(rotation=45)\n",
    "plt.show()"
   ]
  },
  {
   "cell_type": "code",
   "execution_count": 158,
   "id": "eb91e21a",
   "metadata": {},
   "outputs": [
    {
     "data": {
      "image/png": "[encoded data removed]",
      "text/plain": [
       "<Figure size 504x360 with 1 Axes>"
      ]
     },
     "metadata": {},
     "output_type": "display_data"
    }
   ],
   "source": [
    "plt.figure(figsize=(7,5))\n",
    "sns.set(font_scale=1.2)\n",
    "sns.set_style('whitegrid')\n",
    "\n",
    "g = sns.boxplot(data=mobilenet_test_df,\n",
    "                x='Train Size', \n",
    "                y='Dice Score', \n",
    "                hue='U-Net Backbone', \n",
    "                width=0.6,\n",
    "                palette='Set2')\n",
    "\n",
    "plt.legend(bbox_to_anchor=(1,1), loc=2, borderaxespad=0.)\n",
    "plt.title('Dice Score Comparison')\n",
    "plt.xticks(rotation=45)\n",
    "plt.show()"
   ]
  },
  {
   "cell_type": "code",
   "execution_count": 159,
   "id": "4e50b045",
   "metadata": {},
   "outputs": [
    {
     "data": {
      "image/png": "[encoded data removed]",
      "text/plain": [
       "<Figure size 504x360 with 1 Axes>"
      ]
     },
     "metadata": {},
     "output_type": "display_data"
    }
   ],
   "source": [
    "plt.figure(figsize=(7,5))\n",
    "sns.set(font_scale=1.2)\n",
    "sns.set_style('whitegrid')\n",
    "\n",
    "g = sns.boxplot(data=mobilenet_test_df,\n",
    "                x='Train Size', \n",
    "                y='Mean IoU', \n",
    "                hue='U-Net Backbone', \n",
    "                width=0.6,\n",
    "                palette='Set2')\n",
    "\n",
    "plt.legend(bbox_to_anchor=(1,1), loc=2, borderaxespad=0.)\n",
    "plt.title('Mean IoU Comparison')\n",
    "plt.xticks(rotation=45)\n",
    "plt.show()"
   ]
  }
 ],
 "metadata": {
  "kernelspec": {
   "display_name": "Python 3 (ipykernel)",
   "language": "python",
   "name": "python3"
  },
  "language_info": {
   "codemirror_mode": {
    "name": "ipython",
    "version": 3
   },
   "file_extension": ".py",
   "mimetype": "text/x-python",
   "name": "python",
   "nbconvert_exporter": "python",
   "pygments_lexer": "ipython3",
   "version": "3.9.12"
  }
 },
 "nbformat": 4,
 "nbformat_minor": 5
}
